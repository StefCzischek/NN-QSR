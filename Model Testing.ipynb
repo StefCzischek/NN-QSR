{
 "cells": [
  {
   "cell_type": "code",
   "execution_count": 23,
   "id": "adf7b69a",
   "metadata": {},
   "outputs": [],
   "source": [
    "from PTFRNN import *\n",
    "import os"
   ]
  },
  {
   "cell_type": "markdown",
   "id": "1da33434",
   "metadata": {},
   "source": [
    "# Testing Patching Functions"
   ]
  },
  {
   "cell_type": "code",
   "execution_count": 2,
   "id": "04f3bc94",
   "metadata": {},
   "outputs": [
    {
     "name": "stdout",
     "output_type": "stream",
     "text": [
      "tensor([[ 0,  1,  2,  3,  4,  5],\n",
      "        [ 6,  7,  8,  9, 10, 11],\n",
      "        [12, 13, 14, 15, 16, 17],\n",
      "        [18, 19, 20, 21, 22, 23],\n",
      "        [24, 25, 26, 27, 28, 29],\n",
      "        [30, 31, 32, 33, 34, 35]])\n",
      "tensor([[[ 0,  1,  2,  6,  7,  8, 12, 13, 14],\n",
      "         [ 3,  4,  5,  9, 10, 11, 15, 16, 17],\n",
      "         [18, 19, 20, 24, 25, 26, 30, 31, 32],\n",
      "         [21, 22, 23, 27, 28, 29, 33, 34, 35]]])\n",
      "tensor([[ 0,  1,  2,  3,  4,  5],\n",
      "        [ 6,  7,  8,  9, 10, 11],\n",
      "        [12, 13, 14, 15, 16, 17],\n",
      "        [18, 19, 20, 21, 22, 23],\n",
      "        [24, 25, 26, 27, 28, 29],\n",
      "        [30, 31, 32, 33, 34, 35]])\n",
      "tensor([[[ 0,  1,  2,  3,  4,  5,  6,  7,  8],\n",
      "         [ 9, 10, 11, 12, 13, 14, 15, 16, 17],\n",
      "         [18, 19, 20, 21, 22, 23, 24, 25, 26],\n",
      "         [27, 28, 29, 30, 31, 32, 33, 34, 35]]])\n",
      "tensor([[ 0,  1,  2,  3,  4,  5],\n",
      "        [ 6,  7,  8,  9, 10, 11],\n",
      "        [12, 13, 14, 15, 16, 17],\n",
      "        [18, 19, 20, 21, 22, 23],\n",
      "        [24, 25, 26, 27, 28, 29],\n",
      "        [30, 31, 32, 33, 34, 35]])\n"
     ]
    }
   ],
   "source": [
    "x = torch.arange(36).unsqueeze(0)\n",
    "\n",
    "patch2d = Patch2D(3,6)\n",
    "\n",
    "patch1d = Patch1D(9,36)\n",
    "\n",
    "y2 = patch2d(x)\n",
    "\n",
    "y1 = patch1d(x)\n",
    "\n",
    "print(x.view(6,6))\n",
    "\n",
    "print(y2)\n",
    "print(patch2d.reverse(y2).view(6,6))\n",
    "print(y1)\n",
    "print(patch1d.reverse(y1).view(6,6))\n",
    "\n"
   ]
  },
  {
   "cell_type": "markdown",
   "id": "332cecf7",
   "metadata": {},
   "source": [
    "# PE2D sizing tests"
   ]
  },
  {
   "cell_type": "code",
   "execution_count": 3,
   "id": "be6fe5ae",
   "metadata": {},
   "outputs": [
    {
     "data": {
      "text/plain": [
       "tensor([[0., 0.],\n",
       "        [0., 1.],\n",
       "        [1., 0.],\n",
       "        [1., 1.],\n",
       "        [2., 0.],\n",
       "        [2., 1.]])"
      ]
     },
     "execution_count": 3,
     "metadata": {},
     "output_type": "execute_result"
    }
   ],
   "source": [
    "def pe2Dtest(Lx,Ly):\n",
    "    pe = torch.zeros(Lx*Ly, 2)\n",
    "    for pos in range(Lx*Ly):\n",
    "        x=pos//Ly\n",
    "        y=pos%Ly\n",
    "        # Only going to fill 3/4 of the matrix so the\n",
    "        # occupation values are preserved\n",
    "        #x direction encoding\n",
    "        pe[pos, 0] =                 x\n",
    "        #y direction encoding\n",
    "        pe[pos, 1] =                 y\n",
    "    return pe\n",
    "pe2Dtest(3,2)"
   ]
  },
  {
   "cell_type": "markdown",
   "id": "68c51da9",
   "metadata": {},
   "source": [
    "# Testing PTFRNN"
   ]
  },
  {
   "cell_type": "code",
   "execution_count": 3,
   "id": "3278f723",
   "metadata": {},
   "outputs": [
    {
     "name": "stdout",
     "output_type": "stream",
     "text": [
      "1849104\n"
     ]
    }
   ],
   "source": [
    "from LPTF import *\n",
    "op=Opt(K=256,Q=1,Nh=128,dir=\"<NONE>\",hamiltonian=\"TFIM\",J=1,h=-1)\n",
    "op.B=op.K*op.Q\n",
    "op.patch=20\n",
    "op.L= 100\n",
    "op.sgrad=False\n",
    "op.NLOOPS=op.L//op.patch\n",
    "\n",
    "pb = LPTF(op.L,op.patch,_2D=op._2D,Nh=op.Nh,num_layers=2,rnnargs={\"p\":4})\n",
    "\n",
    "pb1 = torch.jit.script(pb)\n",
    "\n",
    "print(sum([p.numel() for p in pb.parameters()]))"
   ]
  },
  {
   "cell_type": "code",
   "execution_count": 2,
   "id": "92e0ca69",
   "metadata": {},
   "outputs": [
    {
     "name": "stdout",
     "output_type": "stream",
     "text": [
      "1884720\n"
     ]
    }
   ],
   "source": [
    "altnet = PTF(op.patch,4,Nh=8,nhead=1,num_layers=2)\n",
    "pb.prnn=altnet\n",
    "print(sum([p.numel() for p in pb.parameters()]))"
   ]
  },
  {
   "cell_type": "code",
   "execution_count": null,
   "id": "1c2ac569",
   "metadata": {},
   "outputs": [
    {
     "name": "stdout",
     "output_type": "stream",
     "text": [
      "cuda:0 _CudaDeviceProperties(name='NVIDIA GeForce RTX 3080 Ti', major=8, minor=6, total_memory=12287MB, multi_processor_count=80)\n"
     ]
    }
   ],
   "source": [
    "import os\n",
    "from LPTF import *\n",
    "op=Opt(K=256,B=256,Q=1,Nh=128,dir=\"LPTF-RNN\",hamiltonian=\"Rydberg\",_2D=True,sgrad=False)\n",
    "op.patch=4\n",
    "\n",
    "#print(op)\n",
    "op.L= 24*24\n",
    "op.NLOOPS=op.L//op.patch**2\n",
    "os.system(\"python LPTF.py \"+op.cmd())\n",
    "\n",
    "op.L= 32*32\n",
    "op.NLOOPS=op.L//op.patch**2\n",
    "os.system(\"python LPTF.py \"+op.cmd())"
   ]
  },
  {
   "cell_type": "code",
   "execution_count": 1,
   "id": "2200e7f7",
   "metadata": {},
   "outputs": [
    {
     "name": "stdout",
     "output_type": "stream",
     "text": [
      "cuda:0 _CudaDeviceProperties(name='NVIDIA GeForce RTX 3080 Ti', major=8, minor=6, total_memory=12287MB, multi_processor_count=80)\n",
      "1342928\n"
     ]
    },
    {
     "name": "stderr",
     "output_type": "stream",
     "text": [
      "C:\\Users\\sprag\\anaconda3\\envs\\pytorch\\lib\\site-packages\\torch\\jit\\_recursive.py:229: UserWarning: 'batch_first' was found in ScriptModule constants, but was not actually set in __init__. Consider removing it.\n",
      "  \"Consider removing it.\".format(name))\n"
     ]
    }
   ],
   "source": [
    "from LPTF import *\n",
    "#torch.set_default_tensor_type(torch.DoubleTensor)\n",
    "op=Opt(K=64,Q=4,Nh=128,dir=\"LPTF-RNN\",hamiltonian=\"Rydberg\")\n",
    "op.B=op.K*op.Q\n",
    "op.patch=4\n",
    "op.L= 32*32\n",
    "op._2D=True\n",
    "op.sgrad=False\n",
    "op.NLOOPS=op.L//op.patch**2\n",
    "\n",
    "\n",
    "rnnargs = dict(p=2*(2-op._2D),_2D=op._2D)\n",
    "pb = LPTF(32,op.patch,_2D=op._2D,Nh=op.Nh,num_layers=2,rnnargs=rnnargs)\n",
    "\n",
    "\n",
    "pb.prnn = PTF(op.patch,2,_2D=op._2D,Nh=[32,op.Nh],num_layers=1)\n",
    "op.dir=\"LPTF-TF\"\n",
    "\n",
    "\n",
    "print(sum([p.numel() for p in pb.parameters()]))\n",
    "\n",
    "pb1 = torch.jit.script(pb)\n",
    "#pb1=pb"
   ]
  },
  {
   "cell_type": "code",
   "execution_count": 2,
   "id": "ba055047",
   "metadata": {},
   "outputs": [
    {
     "data": {
      "text/plain": [
       "Sequential(\n",
       "  (0): Linear(in_features=128, out_features=128, bias=True)\n",
       "  (1): ReLU()\n",
       "  (2): Linear(in_features=32, out_features=16, bias=True)\n",
       "  (3): Softmax(dim=-1)\n",
       ")"
      ]
     },
     "execution_count": 2,
     "metadata": {},
     "output_type": "execute_result"
    }
   ],
   "source": [
    "pb.prnn.lin"
   ]
  },
  {
   "cell_type": "code",
   "execution_count": 5,
   "id": "ffcdf36f",
   "metadata": {
    "scrolled": false
   },
   "outputs": [
    {
     "name": "stdout",
     "output_type": "stream",
     "text": [
      "torch.Size([32, 256, 1])\n",
      "Mean Difference: 1.7763568394002505e-14 (Var[P])^0.5: 5.461589596930382\n",
      "--------------------\n",
      "Mean Difference: 1.0574874309554616e-14 (Var[P])^0.5: 5.3829151255908085\n",
      "tensor(-164.9670, device='cuda:0') tensor(-164.9670, device='cuda:0')\n",
      "tensor(5.6843e-14, device='cuda:0')\n"
     ]
    },
    {
     "data": {
      "text/plain": [
       "<matplotlib.image.AxesImage at 0x12ed0bbbe08>"
      ]
     },
     "execution_count": 5,
     "metadata": {},
     "output_type": "execute_result"
    },
    {
     "data": {
      "image/png": "[encoded data removed]",
      "text/plain": [
       "<Figure size 432x288 with 1 Axes>"
      ]
     },
     "metadata": {
      "needs_background": "light"
     },
     "output_type": "display_data"
    }
   ],
   "source": [
    "B=32\n",
    "\n",
    "sample,p0 = pb.sample(B,op.L)\n",
    "print(sample.shape)\n",
    "ps = pb.logprobability(sample)\n",
    "\n",
    "pvar,pmean = torch.var_mean(p0)\n",
    "\n",
    "var,mean = torch.var_mean(abs(p0-ps))\n",
    "\n",
    "print(\"Mean Difference:\",mean.item(),\"(Var[P])^0.5:\",pvar.item()**0.5)\n",
    "\n",
    "print(\"--------------------\")\n",
    "\n",
    "\n",
    "\n",
    "def get_indices(patch,L):\n",
    "    sflip = torch.arange(L,device=device).to(torch.int64).reshape([1,L])\n",
    "    sflip = patch(sflip).reshape(L)\n",
    "    \n",
    "    return sflip\n",
    "\n",
    "probs = Sampler.off_diag_labels(pb,sample,nloops=op.NLOOPS)[:,get_indices(pb.patch,op.L)]\n",
    "p2 = pb.off_diag_labels(sample,nloops=op.NLOOPS)\n",
    "\n",
    "print(\"Mean Difference:\",abs(probs-p2).mean().item(),\"(Var[P])^0.5:\",torch.var_mean(probs)[0].item()**0.5)\n",
    "print(probs.mean(),p2.mean())\n",
    "print(abs(probs-p2).max())\n",
    "plt.imshow(abs(probs-p2).cpu())"
   ]
  },
  {
   "cell_type": "code",
   "execution_count": 3,
   "id": "c97ea362",
   "metadata": {},
   "outputs": [
    {
     "data": {
      "text/plain": [
       "Sequential(\n",
       "  (0): Linear(in_features=16, out_features=128, bias=True)\n",
       "  (1): Tanh()\n",
       ")"
      ]
     },
     "execution_count": 3,
     "metadata": {},
     "output_type": "execute_result"
    }
   ],
   "source": [
    "pb.tokenize"
   ]
  },
  {
   "cell_type": "code",
   "execution_count": null,
   "id": "441cbcd0",
   "metadata": {},
   "outputs": [
    {
     "name": "stdout",
     "output_type": "stream",
     "text": [
      "Output folder path established\n"
     ]
    }
   ],
   "source": [
    "pb = torch.jit.script(pb)\n",
    "\n",
    "\n",
    "beta1=0.9;beta2=0.999\n",
    "optimizer = torch.optim.Adam(\n",
    "pb.parameters(), \n",
    "lr=op.lr,\n",
    "betas=(beta1,beta2)\n",
    ")\n",
    "\n",
    "mydir=setup_dir(op)\n",
    "orig_stdout = sys.stdout\n",
    "f = open(mydir+'\\\\output.txt', 'w')\n",
    "sys.stdout = f\n",
    "try:\n",
    "    if not op.USEQUEUE:\n",
    "        debug = reg_train(op,(pb,optimizer),printf=True,mydir=mydir)\n",
    "except Exception as e:\n",
    "    print(e)\n",
    "sys.stdout = orig_stdout\n",
    "f.close()"
   ]
  },
  {
   "cell_type": "code",
   "execution_count": 2,
   "id": "f46a76ac",
   "metadata": {},
   "outputs": [
    {
     "name": "stdout",
     "output_type": "stream",
     "text": [
      "Output folder path established\n",
      "-0.3724 576\n",
      "5,3.272|\n",
      "48.44205188751221 10\n"
     ]
    },
    {
     "data": {
      "text/plain": [
       "0.26799843046400285"
      ]
     },
     "execution_count": 2,
     "metadata": {},
     "output_type": "execute_result"
    }
   ],
   "source": [
    "op.steps=10\n",
    "\n",
    "beta1=0.9;beta2=0.999\n",
    "optimizer = torch.optim.Adam(\n",
    "pb.parameters(), \n",
    "lr=op.lr,\n",
    "betas=(beta1,beta2)\n",
    ")\n",
    "\n",
    "debug = reg_train(op,(pb,optimizer))\n",
    "debug[-1,5]/op.L"
   ]
  },
  {
   "cell_type": "code",
   "execution_count": 8,
   "id": "ce68c1cc",
   "metadata": {},
   "outputs": [
    {
     "data": {
      "text/plain": [
       "0"
      ]
     },
     "execution_count": 8,
     "metadata": {},
     "output_type": "execute_result"
    }
   ],
   "source": [
    "import os\n",
    "os.system(\"python RNN_QSR.py hamiltonian=TFIM L=40 NLOOPS=10 h=-1 J=1 patch=1\")"
   ]
  },
  {
   "cell_type": "code",
   "execution_count": 3,
   "id": "75ab7cea",
   "metadata": {},
   "outputs": [
    {
     "data": {
      "text/plain": [
       "0"
      ]
     },
     "execution_count": 3,
     "metadata": {},
     "output_type": "execute_result"
    }
   ],
   "source": [
    "os.system(\"git commit -a -m \\\"Auto Commit\\\"\")\n",
    "os.system(\"git push origin\")"
   ]
  },
  {
   "cell_type": "code",
   "execution_count": 4,
   "id": "42376635",
   "metadata": {},
   "outputs": [
    {
     "data": {
      "application/javascript": [
       "IPython.notebook.save_notebook()"
      ]
     },
     "metadata": {},
     "output_type": "display_data"
    },
    {
     "data": {
      "text/plain": [
       "0"
      ]
     },
     "execution_count": 4,
     "metadata": {},
     "output_type": "execute_result"
    }
   ],
   "source": [
    "import IPython\n",
    "IPython.display.display(IPython.display.Javascript(\"IPython.notebook.save_notebook()\"),include=['application/javascript'])\n",
    "\n",
    "os.system(\"git commit -a -m \\\"Auto Commit\\\"\")\n",
    "os.system(\"git push origin\")"
   ]
  },
  {
   "cell_type": "code",
   "execution_count": null,
   "id": "4c94f076",
   "metadata": {},
   "outputs": [],
   "source": []
  }
 ],
 "metadata": {
  "kernelspec": {
   "display_name": "Python 3",
   "language": "python",
   "name": "python3"
  },
  "language_info": {
   "codemirror_mode": {
    "name": "ipython",
    "version": 3
   },
   "file_extension": ".py",
   "mimetype": "text/x-python",
   "name": "python",
   "nbconvert_exporter": "python",
   "pygments_lexer": "ipython3",
   "version": "3.7.10"
  }
 },
 "nbformat": 4,
 "nbformat_minor": 5
}
