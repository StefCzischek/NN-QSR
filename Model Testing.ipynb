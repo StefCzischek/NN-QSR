{
 "cells": [
  {
   "cell_type": "code",
   "execution_count": 1,
   "id": "adf7b69a",
   "metadata": {},
   "outputs": [
    {
     "name": "stdout",
     "output_type": "stream",
     "text": [
      "cuda:0 _CudaDeviceProperties(name='NVIDIA GeForce RTX 3080 Ti', major=8, minor=6, total_memory=12287MB, multi_processor_count=80)\n"
     ]
    }
   ],
   "source": [
    "from ModelBuilder import *\n",
    "from PTFB import *\n",
    "import os\n",
    "from matplotlib import pyplot as plt"
   ]
  },
  {
   "cell_type": "markdown",
   "id": "1da33434",
   "metadata": {},
   "source": [
    "# Testing Patching Functions"
   ]
  },
  {
   "cell_type": "code",
   "execution_count": 2,
   "id": "40bf0b67",
   "metadata": {},
   "outputs": [
    {
     "name": "stdout",
     "output_type": "stream",
     "text": [
      "8 8\n"
     ]
    }
   ],
   "source": [
    "L=\"8x8\"\n",
    "\n",
    "Lx,Ly=[int(L**0.5)]*2 if type(L) is int else [int(a) for a in L.split(\"x\")]\n",
    "\n",
    "print(Lx,Ly)"
   ]
  },
  {
   "cell_type": "code",
   "execution_count": 3,
   "id": "04f3bc94",
   "metadata": {},
   "outputs": [
    {
     "name": "stdout",
     "output_type": "stream",
     "text": [
      "tensor([[ 0,  1,  2,  3,  4,  5],\n",
      "        [ 6,  7,  8,  9, 10, 11],\n",
      "        [12, 13, 14, 15, 16, 17],\n",
      "        [18, 19, 20, 21, 22, 23]], device='cuda:0')\n",
      "tensor([[[ 0,  1,  2,  6,  7,  8],\n",
      "         [ 3,  4,  5,  9, 10, 11],\n",
      "         [12, 13, 14, 18, 19, 20],\n",
      "         [15, 16, 17, 21, 22, 23]]], device='cuda:0')\n",
      "tensor([[ 0,  1,  2,  3,  4,  5],\n",
      "        [ 6,  7,  8,  9, 10, 11],\n",
      "        [12, 13, 14, 15, 16, 17],\n",
      "        [18, 19, 20, 21, 22, 23]], device='cuda:0')\n"
     ]
    }
   ],
   "source": [
    "x = torch.arange(24,device=device).unsqueeze(0)\n",
    "\n",
    "patch2d = Patch2D(2,3,4,6)\n",
    "\n",
    "\n",
    "\n",
    "patch1d = Patch1D(6,24)\n",
    "\n",
    "y2 = patch2d(x)\n",
    "\n",
    "y1 = patch1d(x)\n",
    "\n",
    "print(x.view(4,6))\n",
    "\n",
    "print(y2)\n",
    "\n",
    "\n",
    "print(patch2d.reverse(y2).view(4,6))\n",
    "\n",
    "\n",
    "#print(patch2d.reverse(y2))\n",
    "\n",
    "#print(y1)\n",
    "#print(patch1d.reverse(y1).view(6,6))\n",
    "\n"
   ]
  },
  {
   "cell_type": "markdown",
   "id": "332cecf7",
   "metadata": {},
   "source": [
    "# PE2D sizing tests"
   ]
  },
  {
   "cell_type": "code",
   "execution_count": 126,
   "id": "be6fe5ae",
   "metadata": {},
   "outputs": [
    {
     "data": {
      "text/plain": [
       "tensor([[0., 0.],\n",
       "        [0., 1.],\n",
       "        [1., 0.],\n",
       "        [1., 1.],\n",
       "        [2., 0.],\n",
       "        [2., 1.]])"
      ]
     },
     "execution_count": 126,
     "metadata": {},
     "output_type": "execute_result"
    }
   ],
   "source": [
    "def pe2Dtest(Lx,Ly):\n",
    "    pe = torch.zeros(Lx*Ly, 2)\n",
    "    for pos in range(Lx*Ly):\n",
    "        x=pos//Ly\n",
    "        y=pos%Ly\n",
    "        # Only going to fill 3/4 of the matrix so the\n",
    "        # occupation values are preserved\n",
    "        #x direction encoding\n",
    "        pe[pos, 0] =                 x\n",
    "        #y direction encoding\n",
    "        pe[pos, 1] =                 y\n",
    "    return pe\n",
    "pe2Dtest(3,2)"
   ]
  },
  {
   "cell_type": "markdown",
   "id": "670c94b0",
   "metadata": {},
   "source": [
    "# Testing LPTF"
   ]
  },
  {
   "cell_type": "code",
   "execution_count": 5,
   "id": "2b016385",
   "metadata": {},
   "outputs": [
    {
     "name": "stdout",
     "output_type": "stream",
     "text": [
      "[128, 32, 2048]\n",
      "64\n",
      "2384176\n"
     ]
    }
   ],
   "source": [
    "torch.set_default_tensor_type(torch.DoubleTensor)\n",
    "\n",
    "\n",
    "ptf = PTF(L=64,patch=2,_2D=True,Nh=[32,128],dropout=0.0,num_layers=2,nhead=8,repeat_pre=True)\n",
    "\n",
    "pb = LPTF(ptf,L=256,patch=8,_2D=True,Nh=128,dropout=0.0,num_layers=2,nhead=8)\n",
    "\n",
    "op=TrainOpt(L=256,NLOOPS=4)\n",
    "print(ptf.nrepeat)\n",
    "\n",
    "print(sum([p.numel() for p in pb.parameters()]))"
   ]
  },
  {
   "cell_type": "code",
   "execution_count": 2,
   "id": "30eb7c47",
   "metadata": {},
   "outputs": [
    {
     "name": "stdout",
     "output_type": "stream",
     "text": [
      "2525456\n"
     ]
    }
   ],
   "source": [
    "#torch.set_default_tensor_type(torch.DoubleTensor)\n",
    "ptf = PTFB(L=16,patch=2,_2D=True,Nh=[128,128],dropout=0.0,num_layers=2,nhead=8)\n",
    "#ptf = PTF(L=16,patch=2,_2D=True,Nh=[32,128],dropout=0.0,num_layers=2,nhead=8,repeat_pre=True)\n",
    "\n",
    "\n",
    "pb = LPTF(ptf,L=256,patch=4,_2D=True,Nh=128,dropout=0.0,num_layers=2,nhead=8,full_seq=True)\n",
    "\n",
    "op=TrainOpt(L=256,NLOOPS=16)\n",
    "\n",
    "print(sum([p.numel() for p in pb.parameters()]))\n",
    "\n",
    "\n"
   ]
  },
  {
   "cell_type": "code",
   "execution_count": 7,
   "id": "c3bca24f",
   "metadata": {},
   "outputs": [],
   "source": [
    "torch.set_default_tensor_type(torch.DoubleTensor)\n",
    "pb=PRNN(L=64,patch=\"2x2\",rnntype=\"GRU\",Nh=256)\n",
    "\n",
    "#pb = PTF(L=64,patch=\"2x2\",Nh=128,dropout=0.0,num_layers=2,nhead=8,repeat_pre=True)\n",
    "op=TrainOpt(L=64,NLOOPS=16)"
   ]
  },
  {
   "cell_type": "code",
   "execution_count": 8,
   "id": "3a48359e",
   "metadata": {},
   "outputs": [
    {
     "name": "stdout",
     "output_type": "stream",
     "text": [
      "torch.Size([32, 64, 1])\n",
      "Mean Difference: 4.218847493575595e-15 (Var[P])^0.5: 0.15152042109408576\n",
      "--------------------\n",
      "Mean Difference: 2.1094237467877974e-15 (Var[P])^0.5: 0.14640562740909438\n",
      "tensor(-44.3500, device='cuda:0') tensor(-44.3500, device='cuda:0')\n",
      "tensor(1.4211e-14, device='cuda:0')\n"
     ]
    },
    {
     "data": {
      "text/plain": [
       "<matplotlib.image.AxesImage at 0x21e054f3248>"
      ]
     },
     "execution_count": 8,
     "metadata": {},
     "output_type": "execute_result"
    },
    {
     "data": {
      "image/png": "[encoded data removed]",
      "text/plain": [
       "<Figure size 432x288 with 1 Axes>"
      ]
     },
     "metadata": {
      "needs_background": "light"
     },
     "output_type": "display_data"
    }
   ],
   "source": [
    "B=32\n",
    "\n",
    "sample,p0 = pb.sample(B,op.L)\n",
    "print(sample.shape)\n",
    "ps = pb.logprobability(sample)\n",
    "\n",
    "pvar,pmean = torch.var_mean(p0)\n",
    "\n",
    "var,mean = torch.var_mean(abs(p0-ps))\n",
    "\n",
    "print(\"Mean Difference:\",mean.item(),\"(Var[P])^0.5:\",pvar.item()**0.5)\n",
    "\n",
    "print(\"--------------------\")\n",
    "\n",
    "\n",
    "\n",
    "def get_indices(patch,L):\n",
    "    sflip = torch.arange(L,device=device).to(torch.int64).reshape([1,L])\n",
    "    sflip = patch(sflip).reshape(L)\n",
    "    \n",
    "    return sflip\n",
    "\n",
    "with torch.no_grad():\n",
    "    probs = Sampler.off_diag_labels(pb,sample,nloops=op.NLOOPS)[:,get_indices(pb.patch,op.L)]\n",
    "    p2 = pb.off_diag_labels(sample,nloops=op.NLOOPS)\n",
    "\n",
    "print(\"Mean Difference:\",abs(probs-p2).mean().item(),\"(Var[P])^0.5:\",torch.var_mean(probs)[0].item()**0.5)\n",
    "print(probs.mean(),p2.mean())\n",
    "print(abs(probs-p2).max())\n",
    "plt.imshow(abs(probs-p2).cpu())"
   ]
  },
  {
   "cell_type": "code",
   "execution_count": 3,
   "id": "c97ea362",
   "metadata": {},
   "outputs": [
    {
     "data": {
      "text/plain": [
       "Sequential(\n",
       "  (0): Linear(in_features=16, out_features=128, bias=True)\n",
       "  (1): Tanh()\n",
       ")"
      ]
     },
     "execution_count": 3,
     "metadata": {},
     "output_type": "execute_result"
    }
   ],
   "source": [
    "pb.tokenize"
   ]
  },
  {
   "cell_type": "code",
   "execution_count": 3,
   "id": "58794309",
   "metadata": {},
   "outputs": [],
   "source": [
    "h=Rydberg.DEFAULTS.copy()\n",
    "h.name=\"RYDBERG\"\n",
    "h.Lx=16\n",
    "h.Ly=16\n",
    "op.dir=\"LPTF\"\n",
    "op.sub_directory=\"_PTFB\"\n",
    "op_full = dict(TRAIN=op,HAMILTONIAN=h,RYDBERG=h)"
   ]
  },
  {
   "cell_type": "code",
   "execution_count": 4,
   "id": "f39c2a8c",
   "metadata": {},
   "outputs": [
    {
     "name": "stdout",
     "output_type": "stream",
     "text": [
      "L                             \t\t\t256\n",
      "Q                             \t\t\t1\n",
      "K                             \t\t\t256\n",
      "B                             \t\t\t256\n",
      "NLOOPS                        \t\t\t16\n",
      "steps                         \t\t\t12000\n",
      "dir                           \t\t\tLPTF\n",
      "lr                            \t\t\t0.0005\n",
      "sgrad                         \t\t\tFalse\n",
      "true_grad                     \t\t\tFalse\n",
      "sub_directory                 \t\t\t_PTFB\n",
      "\n"
     ]
    }
   ],
   "source": [
    "print(op)"
   ]
  },
  {
   "cell_type": "code",
   "execution_count": null,
   "id": "441cbcd0",
   "metadata": {},
   "outputs": [
    {
     "name": "stderr",
     "output_type": "stream",
     "text": [
      "C:\\Users\\sprag\\anaconda3\\envs\\pytorch\\lib\\site-packages\\torch\\jit\\_recursive.py:229: UserWarning: 'batch_first' was found in ScriptModule constants, but was not actually set in __init__. Consider removing it.\n",
      "  \"Consider removing it.\".format(name))\n"
     ]
    },
    {
     "name": "stdout",
     "output_type": "stream",
     "text": [
      "Output folder path established\n"
     ]
    }
   ],
   "source": [
    "pb = torch.jit.script(pb)\n",
    "\n",
    "\n",
    "beta1=0.9;beta2=0.999\n",
    "optimizer = torch.optim.Adam(\n",
    "pb.parameters(), \n",
    "lr=op_full[\"TRAIN\"].lr,\n",
    "betas=(beta1,beta2)\n",
    ")\n",
    "\n",
    "mydir=setup_dir(op_full)\n",
    "orig_stdout = sys.stdout\n",
    "f = open(mydir+'\\\\output.txt', 'w')\n",
    "sys.stdout = f\n",
    "try:\n",
    "    debug = reg_train(op_full,(pb,optimizer),printf=True,mydir=mydir)\n",
    "except Exception as e:\n",
    "    print(e)\n",
    "sys.stdout = orig_stdout\n",
    "f.close()"
   ]
  },
  {
   "cell_type": "code",
   "execution_count": 2,
   "id": "f46a76ac",
   "metadata": {},
   "outputs": [
    {
     "name": "stdout",
     "output_type": "stream",
     "text": [
      "Output folder path established\n",
      "-0.3724 576\n",
      "5,3.272|\n",
      "48.44205188751221 10\n"
     ]
    },
    {
     "data": {
      "text/plain": [
       "0.26799843046400285"
      ]
     },
     "execution_count": 2,
     "metadata": {},
     "output_type": "execute_result"
    }
   ],
   "source": [
    "op.steps=10\n",
    "\n",
    "beta1=0.9;beta2=0.999\n",
    "optimizer = torch.optim.Adam(\n",
    "pb.parameters(), \n",
    "lr=op.lr,\n",
    "betas=(beta1,beta2)\n",
    ")\n",
    "\n",
    "debug = reg_train(op,(pb,optimizer))\n",
    "debug[-1,5]/op.L"
   ]
  },
  {
   "cell_type": "code",
   "execution_count": 8,
   "id": "ce68c1cc",
   "metadata": {},
   "outputs": [
    {
     "data": {
      "text/plain": [
       "0"
      ]
     },
     "execution_count": 8,
     "metadata": {},
     "output_type": "execute_result"
    }
   ],
   "source": [
    "import os\n",
    "os.system(\"python RNN_QSR.py hamiltonian=TFIM L=40 NLOOPS=10 h=-1 J=1 patch=1\")"
   ]
  },
  {
   "cell_type": "code",
   "execution_count": 3,
   "id": "75ab7cea",
   "metadata": {},
   "outputs": [
    {
     "data": {
      "text/plain": [
       "0"
      ]
     },
     "execution_count": 3,
     "metadata": {},
     "output_type": "execute_result"
    }
   ],
   "source": [
    "os.system(\"git commit -a -m \\\"Auto Commit\\\"\")\n",
    "os.system(\"git push origin\")"
   ]
  },
  {
   "cell_type": "code",
   "execution_count": 4,
   "id": "42376635",
   "metadata": {},
   "outputs": [
    {
     "data": {
      "application/javascript": [
       "IPython.notebook.save_notebook()"
      ]
     },
     "metadata": {},
     "output_type": "display_data"
    },
    {
     "data": {
      "text/plain": [
       "0"
      ]
     },
     "execution_count": 4,
     "metadata": {},
     "output_type": "execute_result"
    }
   ],
   "source": [
    "import IPython\n",
    "IPython.display.display(IPython.display.Javascript(\"IPython.notebook.save_notebook()\"),include=['application/javascript'])\n",
    "\n",
    "os.system(\"git commit -a -m \\\"Auto Commit\\\"\")\n",
    "os.system(\"git push origin\")"
   ]
  }
 ],
 "metadata": {
  "kernelspec": {
   "display_name": "Python 3",
   "language": "python",
   "name": "python3"
  },
  "language_info": {
   "codemirror_mode": {
    "name": "ipython",
    "version": 3
   },
   "file_extension": ".py",
   "mimetype": "text/x-python",
   "name": "python",
   "nbconvert_exporter": "python",
   "pygments_lexer": "ipython3",
   "version": "3.7.10"
  }
 },
 "nbformat": 4,
 "nbformat_minor": 5
}
