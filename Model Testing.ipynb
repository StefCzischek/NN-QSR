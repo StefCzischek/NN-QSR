{
 "cells": [
  {
   "cell_type": "code",
   "execution_count": 23,
   "id": "adf7b69a",
   "metadata": {},
   "outputs": [],
   "source": [
    "from PTFRNN import *\n",
    "import os"
   ]
  },
  {
   "cell_type": "markdown",
   "id": "1da33434",
   "metadata": {},
   "source": [
    "# Testing Patching Functions"
   ]
  },
  {
   "cell_type": "code",
   "execution_count": 2,
   "id": "04f3bc94",
   "metadata": {},
   "outputs": [
    {
     "name": "stdout",
     "output_type": "stream",
     "text": [
      "tensor([[ 0,  1,  2,  3,  4,  5],\n",
      "        [ 6,  7,  8,  9, 10, 11],\n",
      "        [12, 13, 14, 15, 16, 17],\n",
      "        [18, 19, 20, 21, 22, 23],\n",
      "        [24, 25, 26, 27, 28, 29],\n",
      "        [30, 31, 32, 33, 34, 35]])\n",
      "tensor([[[ 0,  1,  2,  6,  7,  8, 12, 13, 14],\n",
      "         [ 3,  4,  5,  9, 10, 11, 15, 16, 17],\n",
      "         [18, 19, 20, 24, 25, 26, 30, 31, 32],\n",
      "         [21, 22, 23, 27, 28, 29, 33, 34, 35]]])\n",
      "tensor([[ 0,  1,  2,  3,  4,  5],\n",
      "        [ 6,  7,  8,  9, 10, 11],\n",
      "        [12, 13, 14, 15, 16, 17],\n",
      "        [18, 19, 20, 21, 22, 23],\n",
      "        [24, 25, 26, 27, 28, 29],\n",
      "        [30, 31, 32, 33, 34, 35]])\n",
      "tensor([[[ 0,  1,  2,  3,  4,  5,  6,  7,  8],\n",
      "         [ 9, 10, 11, 12, 13, 14, 15, 16, 17],\n",
      "         [18, 19, 20, 21, 22, 23, 24, 25, 26],\n",
      "         [27, 28, 29, 30, 31, 32, 33, 34, 35]]])\n",
      "tensor([[ 0,  1,  2,  3,  4,  5],\n",
      "        [ 6,  7,  8,  9, 10, 11],\n",
      "        [12, 13, 14, 15, 16, 17],\n",
      "        [18, 19, 20, 21, 22, 23],\n",
      "        [24, 25, 26, 27, 28, 29],\n",
      "        [30, 31, 32, 33, 34, 35]])\n"
     ]
    }
   ],
   "source": [
    "x = torch.arange(36).unsqueeze(0)\n",
    "\n",
    "patch2d = Patch2D(3,6)\n",
    "\n",
    "patch1d = Patch1D(9,36)\n",
    "\n",
    "y2 = patch2d(x)\n",
    "\n",
    "y1 = patch1d(x)\n",
    "\n",
    "print(x.view(6,6))\n",
    "\n",
    "print(y2)\n",
    "print(patch2d.reverse(y2).view(6,6))\n",
    "print(y1)\n",
    "print(patch1d.reverse(y1).view(6,6))\n",
    "\n"
   ]
  },
  {
   "cell_type": "markdown",
   "id": "332cecf7",
   "metadata": {},
   "source": [
    "# PE2D sizing tests"
   ]
  },
  {
   "cell_type": "code",
   "execution_count": 3,
   "id": "be6fe5ae",
   "metadata": {},
   "outputs": [
    {
     "data": {
      "text/plain": [
       "tensor([[0., 0.],\n",
       "        [0., 1.],\n",
       "        [1., 0.],\n",
       "        [1., 1.],\n",
       "        [2., 0.],\n",
       "        [2., 1.]])"
      ]
     },
     "execution_count": 3,
     "metadata": {},
     "output_type": "execute_result"
    }
   ],
   "source": [
    "def pe2Dtest(Lx,Ly):\n",
    "    pe = torch.zeros(Lx*Ly, 2)\n",
    "    for pos in range(Lx*Ly):\n",
    "        x=pos//Ly\n",
    "        y=pos%Ly\n",
    "        # Only going to fill 3/4 of the matrix so the\n",
    "        # occupation values are preserved\n",
    "        #x direction encoding\n",
    "        pe[pos, 0] =                 x\n",
    "        #y direction encoding\n",
    "        pe[pos, 1] =                 y\n",
    "    return pe\n",
    "pe2Dtest(3,2)"
   ]
  },
  {
   "cell_type": "markdown",
   "id": "68c51da9",
   "metadata": {},
   "source": [
    "# Testing PTFRNN"
   ]
  },
  {
   "cell_type": "code",
   "execution_count": 3,
   "id": "3278f723",
   "metadata": {},
   "outputs": [
    {
     "name": "stdout",
     "output_type": "stream",
     "text": [
      "1849104\n"
     ]
    }
   ],
   "source": [
    "from LPTF import *\n",
    "op=Opt(K=256,Q=1,Nh=128,dir=\"<NONE>\",hamiltonian=\"TFIM\",J=1,h=-1)\n",
    "op.B=op.K*op.Q\n",
    "op.patch=20\n",
    "op.L= 100\n",
    "op.sgrad=False\n",
    "op.NLOOPS=op.L//op.patch\n",
    "\n",
    "pb = LPTF(op.L,op.patch,_2D=op._2D,Nh=op.Nh,num_layers=2,rnnargs={\"p\":4})\n",
    "\n",
    "pb1 = torch.jit.script(pb)\n",
    "\n",
    "print(sum([p.numel() for p in pb.parameters()]))"
   ]
  },
  {
   "cell_type": "code",
   "execution_count": 2,
   "id": "92e0ca69",
   "metadata": {},
   "outputs": [
    {
     "name": "stdout",
     "output_type": "stream",
     "text": [
      "1884720\n"
     ]
    }
   ],
   "source": [
    "altnet = PTF(op.patch,4,Nh=8,nhead=1,num_layers=2)\n",
    "pb.prnn=altnet\n",
    "print(sum([p.numel() for p in pb.parameters()]))"
   ]
  },
  {
   "cell_type": "code",
   "execution_count": null,
   "id": "1c2ac569",
   "metadata": {},
   "outputs": [
    {
     "name": "stdout",
     "output_type": "stream",
     "text": [
      "cuda:0 _CudaDeviceProperties(name='NVIDIA GeForce RTX 3080 Ti', major=8, minor=6, total_memory=12287MB, multi_processor_count=80)\n"
     ]
    }
   ],
   "source": [
    "import os\n",
    "from LPTF import *\n",
    "op=Opt(K=256,B=256,Q=1,Nh=128,dir=\"LPTF-RNN\",hamiltonian=\"Rydberg\",_2D=True,sgrad=False)\n",
    "op.patch=4\n",
    "\n",
    "#print(op)\n",
    "op.L= 24*24\n",
    "op.NLOOPS=op.L//op.patch**2\n",
    "os.system(\"python LPTF.py \"+op.cmd())\n",
    "\n",
    "op.L= 32*32\n",
    "op.NLOOPS=op.L//op.patch**2\n",
    "os.system(\"python LPTF.py \"+op.cmd())"
   ]
  },
  {
   "cell_type": "code",
   "execution_count": 1,
   "id": "2200e7f7",
   "metadata": {},
   "outputs": [
    {
     "name": "stdout",
     "output_type": "stream",
     "text": [
      "cuda:0 _CudaDeviceProperties(name='NVIDIA GeForce RTX 3080 Ti', major=8, minor=6, total_memory=12287MB, multi_processor_count=80)\n",
      "1258256\n"
     ]
    },
    {
     "name": "stderr",
     "output_type": "stream",
     "text": [
      "C:\\Users\\sprag\\anaconda3\\envs\\pytorch\\lib\\site-packages\\torch\\jit\\_recursive.py:229: UserWarning: 'batch_first' was found in ScriptModule constants, but was not actually set in __init__. Consider removing it.\n",
      "  \"Consider removing it.\".format(name))\n"
     ]
    }
   ],
   "source": [
    "from LPTF import *\n",
    "#torch.set_default_tensor_type(torch.DoubleTensor)\n",
    "op=Opt(K=256,Q=1,Nh=128,dir=\"FINE-TUNE\",hamiltonian=\"Rydberg\")\n",
    "op.B=op.K*op.Q\n",
    "op.patch=4\n",
    "op.L= 32*32\n",
    "op._2D=True\n",
    "op.sgrad=False\n",
    "op.NLOOPS=op.L//op.patch**2\n",
    "\n",
    "\n",
    "rnnargs = dict(p=2*(2-op._2D),_2D=op._2D)\n",
    "pb = LPTF(32,op.patch,_2D=op._2D,Nh=op.Nh,num_layers=2,rnnargs=rnnargs)\n",
    "\n",
    "\n",
    "#pb.prnn = PTF(op.patch,2,_2D=op._2D,Nh=[32,op.Nh],num_layers=1)\n",
    "#op.dir=\"LPTF-TF\"\n",
    "\n",
    "\n",
    "print(sum([p.numel() for p in pb.parameters()]))\n",
    "\n",
    "pb1 = torch.jit.script(pb)\n",
    "#pb1=pb"
   ]
  },
  {
   "cell_type": "code",
   "execution_count": 2,
   "id": "e20ca5ff",
   "metadata": {},
   "outputs": [
    {
     "name": "stderr",
     "output_type": "stream",
     "text": [
      "C:\\Users\\sprag\\anaconda3\\envs\\pytorch\\lib\\site-packages\\torch\\serialization.py:604: UserWarning: 'torch.load' received a zip file that looks like a TorchScript archive dispatching to 'torch.jit.load' (call 'torch.jit.load' directly to silence this warning)\n",
      "  \" silence this warning)\", UserWarning)\n"
     ]
    }
   ],
   "source": [
    "momentum_update(0,pb,torch.load(\"LPTF-RNN\\\\Rydberg\\\\256-NoQ-B=256-K=256-Nh=128-P=4-2D\\\\0\\\\T\"))\n",
    "op.steps=2000"
   ]
  },
  {
   "cell_type": "code",
   "execution_count": 2,
   "id": "ba055047",
   "metadata": {},
   "outputs": [
    {
     "data": {
      "text/plain": [
       "Sequential(\n",
       "  (0): Linear(in_features=128, out_features=128, bias=True)\n",
       "  (1): ReLU()\n",
       "  (2): Linear(in_features=32, out_features=16, bias=True)\n",
       "  (3): Softmax(dim=-1)\n",
       ")"
      ]
     },
     "execution_count": 2,
     "metadata": {},
     "output_type": "execute_result"
    }
   ],
   "source": [
    "pb.prnn.lin"
   ]
  },
  {
   "cell_type": "code",
   "execution_count": 4,
   "id": "ffcdf36f",
   "metadata": {
    "scrolled": false
   },
   "outputs": [
    {
     "name": "stdout",
     "output_type": "stream",
     "text": [
      "torch.Size([32, 1024, 1])\n",
      "Mean Difference: 0.0045642852783203125 (Var[P])^0.5: 11.254527219504617\n",
      "--------------------\n",
      "Mean Difference: 0.0010835183784365654 (Var[P])^0.5: 11.337570819402229\n",
      "tensor(-396.9808, device='cuda:0') tensor(-396.9811, device='cuda:0')\n",
      "tensor(0.0227, device='cuda:0')\n"
     ]
    },
    {
     "data": {
      "text/plain": [
       "<matplotlib.image.AxesImage at 0x15656e58388>"
      ]
     },
     "execution_count": 4,
     "metadata": {},
     "output_type": "execute_result"
    },
    {
     "data": {
      "image/png": "[encoded data removed]",
      "text/plain": [
       "<Figure size 432x288 with 1 Axes>"
      ]
     },
     "metadata": {
      "needs_background": "light"
     },
     "output_type": "display_data"
    }
   ],
   "source": [
    "B=32\n",
    "\n",
    "sample,p0 = pb.sample(B,op.L)\n",
    "print(sample.shape)\n",
    "ps = pb.logprobability(sample)\n",
    "\n",
    "pvar,pmean = torch.var_mean(p0)\n",
    "\n",
    "var,mean = torch.var_mean(abs(p0-ps))\n",
    "\n",
    "print(\"Mean Difference:\",mean.item(),\"(Var[P])^0.5:\",pvar.item()**0.5)\n",
    "\n",
    "print(\"--------------------\")\n",
    "\n",
    "\n",
    "\n",
    "def get_indices(patch,L):\n",
    "    sflip = torch.arange(L,device=device).to(torch.int64).reshape([1,L])\n",
    "    sflip = patch(sflip).reshape(L)\n",
    "    \n",
    "    return sflip\n",
    "\n",
    "probs = Sampler.off_diag_labels(pb,sample,nloops=op.NLOOPS)[:,get_indices(pb.patch,op.L)]\n",
    "p2 = pb.off_diag_labels(sample,nloops=op.NLOOPS)\n",
    "\n",
    "print(\"Mean Difference:\",abs(probs-p2).mean().item(),\"(Var[P])^0.5:\",torch.var_mean(probs)[0].item()**0.5)\n",
    "print(probs.mean(),p2.mean())\n",
    "print(abs(probs-p2).max())\n",
    "plt.imshow(abs(probs-p2).cpu())"
   ]
  },
  {
   "cell_type": "code",
   "execution_count": 3,
   "id": "c97ea362",
   "metadata": {},
   "outputs": [
    {
     "data": {
      "text/plain": [
       "Sequential(\n",
       "  (0): Linear(in_features=16, out_features=128, bias=True)\n",
       "  (1): Tanh()\n",
       ")"
      ]
     },
     "execution_count": 3,
     "metadata": {},
     "output_type": "execute_result"
    }
   ],
   "source": [
    "pb.tokenize"
   ]
  },
  {
   "cell_type": "code",
   "execution_count": 4,
   "id": "441cbcd0",
   "metadata": {},
   "outputs": [
    {
     "name": "stdout",
     "output_type": "stream",
     "text": [
      "Output folder path established\n"
     ]
    }
   ],
   "source": [
    "pb = torch.jit.script(pb)\n",
    "\n",
    "\n",
    "beta1=0.9;beta2=0.999\n",
    "optimizer = torch.optim.Adam(\n",
    "pb.parameters(), \n",
    "lr=op.lr,\n",
    "betas=(beta1,beta2)\n",
    ")\n",
    "\n",
    "mydir=setup_dir(op)\n",
    "orig_stdout = sys.stdout\n",
    "f = open(mydir+'\\\\output.txt', 'w')\n",
    "sys.stdout = f\n",
    "try:\n",
    "    if not op.USEQUEUE:\n",
    "        debug = reg_train(op,(pb,optimizer),printf=True,mydir=mydir)\n",
    "except Exception as e:\n",
    "    print(e)\n",
    "sys.stdout = orig_stdout\n",
    "f.close()"
   ]
  },
  {
   "cell_type": "code",
   "execution_count": 2,
   "id": "f46a76ac",
   "metadata": {},
   "outputs": [
    {
     "name": "stdout",
     "output_type": "stream",
     "text": [
      "Output folder path established\n",
      "-0.3724 576\n",
      "5,3.272|\n",
      "48.44205188751221 10\n"
     ]
    },
    {
     "data": {
      "text/plain": [
       "0.26799843046400285"
      ]
     },
     "execution_count": 2,
     "metadata": {},
     "output_type": "execute_result"
    }
   ],
   "source": [
    "op.steps=10\n",
    "\n",
    "beta1=0.9;beta2=0.999\n",
    "optimizer = torch.optim.Adam(\n",
    "pb.parameters(), \n",
    "lr=op.lr,\n",
    "betas=(beta1,beta2)\n",
    ")\n",
    "\n",
    "debug = reg_train(op,(pb,optimizer))\n",
    "debug[-1,5]/op.L"
   ]
  },
  {
   "cell_type": "code",
   "execution_count": 8,
   "id": "ce68c1cc",
   "metadata": {},
   "outputs": [
    {
     "data": {
      "text/plain": [
       "0"
      ]
     },
     "execution_count": 8,
     "metadata": {},
     "output_type": "execute_result"
    }
   ],
   "source": [
    "import os\n",
    "os.system(\"python RNN_QSR.py hamiltonian=TFIM L=40 NLOOPS=10 h=-1 J=1 patch=1\")"
   ]
  },
  {
   "cell_type": "code",
   "execution_count": 3,
   "id": "75ab7cea",
   "metadata": {},
   "outputs": [
    {
     "data": {
      "text/plain": [
       "0"
      ]
     },
     "execution_count": 3,
     "metadata": {},
     "output_type": "execute_result"
    }
   ],
   "source": [
    "os.system(\"git commit -a -m \\\"Auto Commit\\\"\")\n",
    "os.system(\"git push origin\")"
   ]
  },
  {
   "cell_type": "code",
   "execution_count": 4,
   "id": "42376635",
   "metadata": {},
   "outputs": [
    {
     "data": {
      "application/javascript": [
       "IPython.notebook.save_notebook()"
      ]
     },
     "metadata": {},
     "output_type": "display_data"
    },
    {
     "data": {
      "text/plain": [
       "0"
      ]
     },
     "execution_count": 4,
     "metadata": {},
     "output_type": "execute_result"
    }
   ],
   "source": [
    "import IPython\n",
    "IPython.display.display(IPython.display.Javascript(\"IPython.notebook.save_notebook()\"),include=['application/javascript'])\n",
    "\n",
    "os.system(\"git commit -a -m \\\"Auto Commit\\\"\")\n",
    "os.system(\"git push origin\")"
   ]
  },
  {
   "cell_type": "code",
   "execution_count": 2,
   "id": "4c94f076",
   "metadata": {},
   "outputs": [
    {
     "name": "stdout",
     "output_type": "stream",
     "text": [
      "cuda:0 _CudaDeviceProperties(name='NVIDIA GeForce RTX 3060 Laptop GPU', major=8, minor=6, total_memory=6143MB, multi_processor_count=30)\n"
     ]
    }
   ],
   "source": [
    "from RNN_QSR import *"
   ]
  },
  {
   "cell_type": "code",
   "execution_count": 9,
   "id": "3a6b8bc6",
   "metadata": {},
   "outputs": [
    {
     "data": {
      "text/plain": [
       "0"
      ]
     },
     "execution_count": 9,
     "metadata": {},
     "output_type": "execute_result"
    }
   ],
   "source": [
    "import os\n",
    "os.system(\"python RNN_QSR.py patch=2 --rnn _2D=False patch=2\")\n",
    "\n"
   ]
  },
  {
   "cell_type": "code",
   "execution_count": 11,
   "id": "f483139d",
   "metadata": {},
   "outputs": [
    {
     "data": {
      "text/plain": [
       "0"
      ]
     },
     "execution_count": 11,
     "metadata": {},
     "output_type": "execute_result"
    }
   ],
   "source": [
    "os.system(\"python PTF.py patch=2x2 --ptf _2D=True patch=2\")"
   ]
  },
  {
   "cell_type": "code",
   "execution_count": 2,
   "id": "4be2018d",
   "metadata": {},
   "outputs": [
    {
     "data": {
      "text/plain": [
       "0"
      ]
     },
     "execution_count": 2,
     "metadata": {},
     "output_type": "execute_result"
    }
   ],
   "source": [
    "import os\n",
    "os.system(\"python PTF.py L=576 NLOOPS=64 patch=3x3 --ptf _2D=True patch=3\")"
   ]
  },
  {
   "cell_type": "code",
   "execution_count": null,
   "id": "91e67ec3",
   "metadata": {},
   "outputs": [],
   "source": [
    "os.system(\"python PTF.py L=576 NLOOPS=144 patch=2x2 --ptf _2D=True patch=2\")"
   ]
  },
  {
   "cell_type": "code",
   "execution_count": null,
   "id": "72b457aa",
   "metadata": {},
   "outputs": [],
   "source": [
    "import os\n",
    "os.system(\"python LPTF.py L=256 NLOOPS=64 patch=2x2 --lptf _2D=True patch=2 --rnn L=4 _2D=False patch=2 Nh=128\")"
   ]
  },
  {
   "cell_type": "code",
   "execution_count": 4,
   "id": "ebb6d4f3",
   "metadata": {},
   "outputs": [
    {
     "data": {
      "text/plain": [
       "0"
      ]
     },
     "execution_count": 4,
     "metadata": {},
     "output_type": "execute_result"
    }
   ],
   "source": [
    "import os\n",
    "os.system(\"python LPTF.py L=576 NLOOPS=64 patch=3x3B --lptf _2D=True patch=3 --rnn L=9 _2D=False patch=3 Nh=128\")"
   ]
  },
  {
   "cell_type": "code",
   "execution_count": null,
   "id": "09f6a1a7",
   "metadata": {},
   "outputs": [],
   "source": [
    "import os\n",
    "os.system(\"python PTF.py L=64 NLOOPS=16 K=1024 patch=2x2 --ptf _2D=True patch=2\")"
   ]
  },
  {
   "cell_type": "code",
   "execution_count": 12,
   "id": "e2752fe4",
   "metadata": {},
   "outputs": [
    {
     "data": {
      "text/plain": [
       "0"
      ]
     },
     "execution_count": 12,
     "metadata": {},
     "output_type": "execute_result"
    }
   ],
   "source": [
    "import os\n",
    "os.system(\"python ModelLoader.py PTF\\\\Rydberg\\\\64-B=1024-K=1024-P=2x2\\\\1 4096\")"
   ]
  },
  {
   "cell_type": "code",
   "execution_count": 17,
   "id": "b680c28a",
   "metadata": {},
   "outputs": [
    {
     "data": {
      "text/plain": [
       "0"
      ]
     },
     "execution_count": 17,
     "metadata": {},
     "output_type": "execute_result"
    }
   ],
   "source": [
    "import os\n",
    "os.system(\"python ModelBuilder.py L=16 NLOOPS=4 K=1024 patch=2x2 --ptf _2D=True patch=2\")"
   ]
  },
  {
   "cell_type": "code",
   "execution_count": 10,
   "id": "9273bd25",
   "metadata": {},
   "outputs": [
    {
     "data": {
      "text/plain": [
       "0"
      ]
     },
     "execution_count": 10,
     "metadata": {},
     "output_type": "execute_result"
    }
   ],
   "source": [
    "import os\n",
    "os.system(\"python LPTF.py L=576 NLOOPS=9 patch=8x8 --lptf _2D=True patch=8 --rnn L=64 _2D=True patch=2 Nh=128\")\n"
   ]
  },
  {
   "cell_type": "code",
   "execution_count": 11,
   "id": "dfcd48d7",
   "metadata": {},
   "outputs": [
    {
     "data": {
      "text/plain": [
       "0"
      ]
     },
     "execution_count": 11,
     "metadata": {},
     "output_type": "execute_result"
    }
   ],
   "source": [
    "os.system(\"python LPTF.py L=576 NLOOPS=9 patch=8x8B --lptf _2D=True patch=8 --rnn L=64 _2D=False patch=8 Nh=128\")"
   ]
  },
  {
   "cell_type": "code",
   "execution_count": 17,
   "id": "c371209e",
   "metadata": {},
   "outputs": [
    {
     "ename": "KeyboardInterrupt",
     "evalue": "",
     "output_type": "error",
     "traceback": [
      "\u001b[1;31m---------------------------------------------------------------------------\u001b[0m",
      "\u001b[1;31mKeyboardInterrupt\u001b[0m                         Traceback (most recent call last)",
      "\u001b[1;32m<ipython-input-17-dad09644b7e4>\u001b[0m in \u001b[0;36m<module>\u001b[1;34m\u001b[0m\n\u001b[0;32m      1\u001b[0m \u001b[1;32mimport\u001b[0m \u001b[0mos\u001b[0m\u001b[1;33m\u001b[0m\u001b[1;33m\u001b[0m\u001b[0m\n\u001b[1;32m----> 2\u001b[1;33m \u001b[0mos\u001b[0m\u001b[1;33m.\u001b[0m\u001b[0msystem\u001b[0m\u001b[1;33m(\u001b[0m\u001b[1;34m\"python FineTune.py LPTF\\\\Rydberg\\\\576-B=256-K=256-P=8x8B\\\\0 L=2304 NLOOPS=36 K=64 Q=4 steps=4000 patch=8x8_LPTF\"\u001b[0m\u001b[1;33m)\u001b[0m\u001b[1;33m\u001b[0m\u001b[1;33m\u001b[0m\u001b[0m\n\u001b[0m",
      "\u001b[1;31mKeyboardInterrupt\u001b[0m: "
     ]
    }
   ],
   "source": [
    "import os\n",
    "os.system(\"python FineTune.py LPTF\\\\Rydberg\\\\576-B=256-K=256-P=8x8B\\\\0 L=2304 NLOOPS=36 K=64 Q=4 steps=4000 patch=8x8_LPTF\")"
   ]
  },
  {
   "cell_type": "code",
   "execution_count": 1,
   "id": "345d7720",
   "metadata": {},
   "outputs": [
    {
     "data": {
      "text/plain": [
       "1"
      ]
     },
     "execution_count": 1,
     "metadata": {},
     "output_type": "execute_result"
    }
   ],
   "source": [
    "import os\n",
    "os.system(\"python Transfer.py FINE-TUNE\\\\Rydberg\\\\2304-B=256-K=64-P=8x8_LPTF\\\\0 L=2304 K=64 Q=8 B=512 steps=4000 patch=2x2_PTF --ptf _2D=True patch=2\")"
   ]
  },
  {
   "cell_type": "code",
   "execution_count": 2,
   "id": "b0fadbf6",
   "metadata": {},
   "outputs": [
    {
     "data": {
      "text/plain": [
       "0"
      ]
     },
     "execution_count": 2,
     "metadata": {},
     "output_type": "execute_result"
    }
   ],
   "source": [
    "import os\n",
    "os.system(\"python Transfer.py FINE-TUNE\\\\Rydberg\\\\2304-B=256-K=64-P=8x8_LPTF\\\\0 L=2304 K=32 Q=2 B=64 steps=20 patch=2x2_PTF --ptf _2D=True patch=2\")"
   ]
  },
  {
   "cell_type": "code",
   "execution_count": 7,
   "id": "9d03b178",
   "metadata": {},
   "outputs": [
    {
     "data": {
      "text/plain": [
       "0"
      ]
     },
     "execution_count": 7,
     "metadata": {},
     "output_type": "execute_result"
    }
   ],
   "source": [
    "import os\n",
    "os.system(\"python ModelLoader.py TRANSFER\\\\Rydberg\\\\2304-B=512-K=64-P=2x2_PTF\\\\1 1024 32\")"
   ]
  },
  {
   "cell_type": "code",
   "execution_count": 17,
   "id": "d9493200",
   "metadata": {},
   "outputs": [
    {
     "data": {
      "text/plain": [
       "0"
      ]
     },
     "execution_count": 17,
     "metadata": {},
     "output_type": "execute_result"
    }
   ],
   "source": [
    "os.system(\"python FineTune.py TRANSFER\\\\Rydberg\\\\2304-B=512-K=64-P=2x2_PTF\\\\1 L=2304 NLOOPS=576 K=8 Q=8 lr=1e-4 B=64 steps=100 patch=2x2_PTF\")"
   ]
  },
  {
   "cell_type": "code",
   "execution_count": 18,
   "id": "77a63062",
   "metadata": {},
   "outputs": [
    {
     "data": {
      "text/plain": [
       "0"
      ]
     },
     "execution_count": 18,
     "metadata": {},
     "output_type": "execute_result"
    }
   ],
   "source": [
    "os.system(\"python ModelLoader.py FINE-TUNE\\\\Rydberg\\\\2304-B=64-K=8-P=2x2_PTF\\\\0 1024 32\")"
   ]
  },
  {
   "cell_type": "code",
   "execution_count": 8,
   "id": "23f4e1da",
   "metadata": {},
   "outputs": [
    {
     "data": {
      "text/plain": [
       "0"
      ]
     },
     "execution_count": 8,
     "metadata": {},
     "output_type": "execute_result"
    }
   ],
   "source": [
    "os.system(\"python ModelLoader.py FINE-TUNE\\\\Rydberg\\\\2304-B=256-K=64-P=8x8_LPTF\\\\0 1024 64\")"
   ]
  },
  {
   "cell_type": "code",
   "execution_count": 24,
   "id": "e75f229f",
   "metadata": {},
   "outputs": [
    {
     "data": {
      "text/plain": [
       "0"
      ]
     },
     "execution_count": 24,
     "metadata": {},
     "output_type": "execute_result"
    }
   ],
   "source": [
    "os.system(\"python Transfer.py FINE-TUNE\\\\Rydberg\\\\2304-B=256-K=64-P=8x8_LPTF\\\\0 L=2304 K=512 Q=1 B=512 NLOOPS=144 steps=4000 patch=4x4_LPTF --lptf _2D=True patch=4 --rnn L=16 _2D=True patch=2 Nh=128\")"
   ]
  },
  {
   "cell_type": "code",
   "execution_count": 28,
   "id": "d7b8ed9a",
   "metadata": {},
   "outputs": [
    {
     "data": {
      "text/plain": [
       "0"
      ]
     },
     "execution_count": 28,
     "metadata": {},
     "output_type": "execute_result"
    }
   ],
   "source": [
    "os.system(\"python Transfer.py FINE-TUNE\\\\Rydberg\\\\2304-B=256-K=64-P=8x8_LPTF\\\\0 L=2304 K=512 Q=1 B=512 NLOOPS=64 steps=4000 patch=6x6_LPTF --lptf _2D=True patch=6 --rnn L=36 _2D=True patch=2 Nh=128\")"
   ]
  },
  {
   "cell_type": "code",
   "execution_count": 25,
   "id": "9aea9af1",
   "metadata": {},
   "outputs": [
    {
     "data": {
      "text/plain": [
       "0"
      ]
     },
     "execution_count": 25,
     "metadata": {},
     "output_type": "execute_result"
    }
   ],
   "source": [
    "os.system(\"python ModelLoader.py TRANSFER\\\\Rydberg\\\\2304-B=512-K=512-P=4x4_LPTF\\\\0 1024 32\")"
   ]
  },
  {
   "cell_type": "code",
   "execution_count": 27,
   "id": "ac505907",
   "metadata": {},
   "outputs": [
    {
     "data": {
      "text/plain": [
       "0"
      ]
     },
     "execution_count": 27,
     "metadata": {},
     "output_type": "execute_result"
    }
   ],
   "source": [
    "os.system(\"python FineTune.py TRANSFER\\\\Rydberg\\\\2304-B=512-K=512-P=4x4_LPTF\\\\0 L=2304 NLOOPS=144 K=64 Q=4 B=256 steps=2000 patch=4x4_LPTF\")"
   ]
  },
  {
   "cell_type": "code",
   "execution_count": 29,
   "id": "7432df3a",
   "metadata": {},
   "outputs": [
    {
     "data": {
      "text/plain": [
       "0"
      ]
     },
     "execution_count": 29,
     "metadata": {},
     "output_type": "execute_result"
    }
   ],
   "source": [
    "os.system(\"python FineTune.py TRANSFER\\\\Rydberg\\\\2304-B=512-K=512-P=6x6_LPTF\\\\0 L=2304 NLOOPS=64 K=64 Q=4 B=256 steps=3000 patch=6x6_LPTF\")"
   ]
  },
  {
   "cell_type": "code",
   "execution_count": null,
   "id": "2e7a0bbb",
   "metadata": {},
   "outputs": [],
   "source": [
    "os.system(\"python ModelBuilder.py L=144 NLOOPS=9 patch=2x2 --ptf _2D=True patch=2\")"
   ]
  },
  {
   "cell_type": "code",
   "execution_count": null,
   "id": "970a7775",
   "metadata": {},
   "outputs": [],
   "source": []
  }
 ],
 "metadata": {
  "kernelspec": {
   "display_name": "Python 3",
   "language": "python",
   "name": "python3"
  },
  "language_info": {
   "codemirror_mode": {
    "name": "ipython",
    "version": 3
   },
   "file_extension": ".py",
   "mimetype": "text/x-python",
   "name": "python",
   "nbconvert_exporter": "python",
   "pygments_lexer": "ipython3",
   "version": "3.7.10"
  }
 },
 "nbformat": 4,
 "nbformat_minor": 5
}
