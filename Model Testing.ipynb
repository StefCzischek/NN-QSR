{
 "cells": [
  {
   "cell_type": "code",
   "execution_count": 23,
   "id": "adf7b69a",
   "metadata": {},
   "outputs": [],
   "source": [
    "from PTFRNN import *\n",
    "import os"
   ]
  },
  {
   "cell_type": "markdown",
   "id": "1da33434",
   "metadata": {},
   "source": [
    "# Testing Patching Functions"
   ]
  },
  {
   "cell_type": "code",
   "execution_count": 2,
   "id": "04f3bc94",
   "metadata": {},
   "outputs": [
    {
     "name": "stdout",
     "output_type": "stream",
     "text": [
      "tensor([[ 0,  1,  2,  3,  4,  5],\n",
      "        [ 6,  7,  8,  9, 10, 11],\n",
      "        [12, 13, 14, 15, 16, 17],\n",
      "        [18, 19, 20, 21, 22, 23],\n",
      "        [24, 25, 26, 27, 28, 29],\n",
      "        [30, 31, 32, 33, 34, 35]])\n",
      "tensor([[[ 0,  1,  2,  6,  7,  8, 12, 13, 14],\n",
      "         [ 3,  4,  5,  9, 10, 11, 15, 16, 17],\n",
      "         [18, 19, 20, 24, 25, 26, 30, 31, 32],\n",
      "         [21, 22, 23, 27, 28, 29, 33, 34, 35]]])\n",
      "tensor([[ 0,  1,  2,  3,  4,  5],\n",
      "        [ 6,  7,  8,  9, 10, 11],\n",
      "        [12, 13, 14, 15, 16, 17],\n",
      "        [18, 19, 20, 21, 22, 23],\n",
      "        [24, 25, 26, 27, 28, 29],\n",
      "        [30, 31, 32, 33, 34, 35]])\n",
      "tensor([[[ 0,  1,  2,  3,  4,  5,  6,  7,  8],\n",
      "         [ 9, 10, 11, 12, 13, 14, 15, 16, 17],\n",
      "         [18, 19, 20, 21, 22, 23, 24, 25, 26],\n",
      "         [27, 28, 29, 30, 31, 32, 33, 34, 35]]])\n",
      "tensor([[ 0,  1,  2,  3,  4,  5],\n",
      "        [ 6,  7,  8,  9, 10, 11],\n",
      "        [12, 13, 14, 15, 16, 17],\n",
      "        [18, 19, 20, 21, 22, 23],\n",
      "        [24, 25, 26, 27, 28, 29],\n",
      "        [30, 31, 32, 33, 34, 35]])\n"
     ]
    }
   ],
   "source": [
    "x = torch.arange(36).unsqueeze(0)\n",
    "\n",
    "patch2d = Patch2D(3,6)\n",
    "\n",
    "patch1d = Patch1D(9,36)\n",
    "\n",
    "y2 = patch2d(x)\n",
    "\n",
    "y1 = patch1d(x)\n",
    "\n",
    "print(x.view(6,6))\n",
    "\n",
    "print(y2)\n",
    "print(patch2d.reverse(y2).view(6,6))\n",
    "print(y1)\n",
    "print(patch1d.reverse(y1).view(6,6))\n",
    "\n"
   ]
  },
  {
   "cell_type": "markdown",
   "id": "332cecf7",
   "metadata": {},
   "source": [
    "# PE2D sizing tests"
   ]
  },
  {
   "cell_type": "code",
   "execution_count": 3,
   "id": "be6fe5ae",
   "metadata": {},
   "outputs": [
    {
     "data": {
      "text/plain": [
       "tensor([[0., 0.],\n",
       "        [0., 1.],\n",
       "        [1., 0.],\n",
       "        [1., 1.],\n",
       "        [2., 0.],\n",
       "        [2., 1.]])"
      ]
     },
     "execution_count": 3,
     "metadata": {},
     "output_type": "execute_result"
    }
   ],
   "source": [
    "def pe2Dtest(Lx,Ly):\n",
    "    pe = torch.zeros(Lx*Ly, 2)\n",
    "    for pos in range(Lx*Ly):\n",
    "        x=pos//Ly\n",
    "        y=pos%Ly\n",
    "        # Only going to fill 3/4 of the matrix so the\n",
    "        # occupation values are preserved\n",
    "        #x direction encoding\n",
    "        pe[pos, 0] =                 x\n",
    "        #y direction encoding\n",
    "        pe[pos, 1] =                 y\n",
    "    return pe\n",
    "pe2Dtest(3,2)"
   ]
  },
  {
   "cell_type": "markdown",
   "id": "68c51da9",
   "metadata": {},
   "source": [
    "# Testing PTFRNN"
   ]
  },
  {
   "cell_type": "code",
   "execution_count": 1,
   "id": "3278f723",
   "metadata": {},
   "outputs": [
    {
     "name": "stdout",
     "output_type": "stream",
     "text": [
      "cuda:0 _CudaDeviceProperties(name='NVIDIA GeForce RTX 3060 Laptop GPU', major=8, minor=6, total_memory=6143MB, multi_processor_count=30)\n",
      "1849104\n"
     ]
    },
    {
     "name": "stderr",
     "output_type": "stream",
     "text": [
      "C:\\Users\\sprag\\anaconda3\\envs\\pytorch\\lib\\site-packages\\torch\\jit\\_recursive.py:242: UserWarning: 'batch_first' was found in ScriptModule constants, but was not actually set in __init__. Consider removing it.\n",
      "  \"Consider removing it.\".format(name))\n"
     ]
    }
   ],
   "source": [
    "from PTFRNN import *\n",
    "op=Opt(K=256,Q=1,Nh=128,dir=\"<NONE>\",hamiltonian=\"TFIM\",J=1,h=-1)\n",
    "op.B=op.K*op.Q\n",
    "op.patch=20\n",
    "op.L= 100\n",
    "op.sgrad=False\n",
    "op.NLOOPS=op.L//op.patch\n",
    "\n",
    "pb = PTFRNN(op.L,op.patch,_2D=op._2D,Nh=op.Nh,num_layers=2,rnnargs={\"p\":4})\n",
    "\n",
    "pb1 = torch.jit.script(pb)\n",
    "\n",
    "print(sum([p.numel() for p in pb.parameters()]))"
   ]
  },
  {
   "cell_type": "code",
   "execution_count": 2,
   "id": "92e0ca69",
   "metadata": {},
   "outputs": [
    {
     "name": "stdout",
     "output_type": "stream",
     "text": [
      "1884720\n"
     ]
    }
   ],
   "source": [
    "altnet = PTF(op.patch,4,Nh=8,nhead=1,num_layers=2)\n",
    "pb.prnn=altnet\n",
    "print(sum([p.numel() for p in pb.parameters()]))"
   ]
  },
  {
   "cell_type": "code",
   "execution_count": 7,
   "id": "ffcdf36f",
   "metadata": {},
   "outputs": [
    {
     "name": "stdout",
     "output_type": "stream",
     "text": [
      "torch.Size([32, 100, 1])\n",
      "0.00037348270416259766 6.510543488348103\n",
      "--------------------\n",
      "0.00017230212688446045 6.370518623930221\n",
      "tensor(-31.4415, device='cuda:0') tensor(-31.4415, device='cuda:0')\n",
      "tensor(0.0014, device='cuda:0')\n"
     ]
    },
    {
     "data": {
      "text/plain": [
       "<matplotlib.image.AxesImage at 0x284add85048>"
      ]
     },
     "execution_count": 7,
     "metadata": {},
     "output_type": "execute_result"
    },
    {
     "data": {
      "image/png": "[encoded data removed]",
      "text/plain": [
       "<Figure size 432x288 with 1 Axes>"
      ]
     },
     "metadata": {
      "needs_background": "light"
     },
     "output_type": "display_data"
    }
   ],
   "source": [
    "B=32\n",
    "\n",
    "sample,p0 = pb.sample(B,100)\n",
    "print(sample.shape)\n",
    "ps = pb.logprobability(sample)\n",
    "\n",
    "pvar,pmean = torch.var_mean(p0)\n",
    "\n",
    "var,mean = torch.var_mean(abs(p0-ps))\n",
    "\n",
    "print(mean.item(),pvar.item()**0.5)\n",
    "\n",
    "print(\"--------------------\")\n",
    "\n",
    "probs = super(PTFRNN,pb).off_diag_labels(sample,nloops=op.NLOOPS)\n",
    "p2 = pb.off_diag_labels(sample,nloops=op.NLOOPS)\n",
    "\n",
    "print(abs(probs-p2).mean().item(),torch.var_mean(probs)[0].item()**0.5)\n",
    "print(probs.mean(),p2.mean())\n",
    "print(abs(probs-p2).max())\n",
    "plt.imshow(abs(probs-p2).cpu())"
   ]
  },
  {
   "cell_type": "code",
   "execution_count": 6,
   "id": "f46a76ac",
   "metadata": {},
   "outputs": [
    {
     "name": "stdout",
     "output_type": "stream",
     "text": [
      "-1.2732919061200112 100\n",
      "0,-0.379|\n",
      "34.81896948814392 100\n"
     ]
    },
    {
     "data": {
      "text/plain": [
       "-1.2631399536132812"
      ]
     },
     "execution_count": 6,
     "metadata": {},
     "output_type": "execute_result"
    }
   ],
   "source": [
    "op.steps=100\n",
    "\n",
    "beta1=0.9;beta2=0.999\n",
    "optimizer = torch.optim.Adam(\n",
    "pb.parameters(), \n",
    "lr=op.lr,\n",
    "betas=(beta1,beta2)\n",
    ")\n",
    "\n",
    "debug = reg_train(op,(pb,optimizer))\n",
    "debug[-1,5]/100"
   ]
  },
  {
   "cell_type": "code",
   "execution_count": 8,
   "id": "ce68c1cc",
   "metadata": {},
   "outputs": [
    {
     "data": {
      "text/plain": [
       "0"
      ]
     },
     "execution_count": 8,
     "metadata": {},
     "output_type": "execute_result"
    }
   ],
   "source": [
    "import os\n",
    "os.system(\"python RNN_QSR.py hamiltonian=TFIM L=40 NLOOPS=10 h=-1 J=1 patch=1\")"
   ]
  },
  {
   "cell_type": "code",
   "execution_count": 9,
   "id": "7ae730de",
   "metadata": {},
   "outputs": [
    {
     "data": {
      "text/plain": [
       "0"
      ]
     },
     "execution_count": 9,
     "metadata": {},
     "output_type": "execute_result"
    }
   ],
   "source": [
    "os.system(\"python RNN_QSR.py hamiltonian=TFIM L=100 NLOOPS=25 h=-1 J=1 patch=1\")\n",
    "os.system(\"python RNN_QSR.py hamiltonian=TFIM L=100 NLOOPS=25 h=-1 J=1 patch=4\")\n",
    "os.system(\"python RNN_QSR.py hamiltonian=TFIM L=200 NLOOPS=50 h=-1 J=1 patch=4\")\n",
    "os.system(\"python RNN_QSR.py hamiltonian=TFIM L=500 NLOOPS=125 h=-1 J=1 patch=4\")"
   ]
  },
  {
   "cell_type": "code",
   "execution_count": 21,
   "id": "32845f1e",
   "metadata": {},
   "outputs": [
    {
     "data": {
      "text/plain": [
       "0"
      ]
     },
     "execution_count": 21,
     "metadata": {},
     "output_type": "execute_result"
    }
   ],
   "source": [
    "os.system(\"python PTF.py hamiltonian=TFIM L=40 NLOOPS=10 h=-1 J=1 patch=4 K=512\")\n",
    "os.system(\"python PTF.py hamiltonian=TFIM L=100 NLOOPS=25 h=-1 J=1 patch=4 K=512\")"
   ]
  },
  {
   "cell_type": "code",
   "execution_count": 22,
   "id": "1fb62d15",
   "metadata": {},
   "outputs": [
    {
     "data": {
      "text/plain": [
       "0"
      ]
     },
     "execution_count": 22,
     "metadata": {},
     "output_type": "execute_result"
    }
   ],
   "source": [
    "os.system(\"python PTF.py hamiltonian=TFIM L=200 NLOOPS=50 h=-1 J=1 patch=4\")"
   ]
  },
  {
   "cell_type": "code",
   "execution_count": 37,
   "id": "1a30d15c",
   "metadata": {},
   "outputs": [
    {
     "data": {
      "text/plain": [
       "0"
      ]
     },
     "execution_count": 37,
     "metadata": {},
     "output_type": "execute_result"
    }
   ],
   "source": [
    "os.system(\"python PTF.py hamiltonian=TFIM L=500 NLOOPS=125 h=-1 J=1 patch=4 sgrad=False\")"
   ]
  },
  {
   "cell_type": "code",
   "execution_count": 36,
   "id": "5551394e",
   "metadata": {},
   "outputs": [
    {
     "data": {
      "text/plain": [
       "0"
      ]
     },
     "execution_count": 36,
     "metadata": {},
     "output_type": "execute_result"
    }
   ],
   "source": [
    "os.system(\"python PTF.py hamiltonian=TFIM L=120 NLOOPS=30 h=-1 J=1 patch=4 steps=100\")"
   ]
  },
  {
   "cell_type": "code",
   "execution_count": 38,
   "id": "b3598fe3",
   "metadata": {},
   "outputs": [
    {
     "data": {
      "text/plain": [
       "0"
      ]
     },
     "execution_count": 38,
     "metadata": {},
     "output_type": "execute_result"
    }
   ],
   "source": [
    "os.system(\"python PTF.py hamiltonian=TFIM L=100 NLOOPS=25 h=-1 J=1 patch=2 K=256 _2D=True\")"
   ]
  },
  {
   "cell_type": "code",
   "execution_count": 20,
   "id": "d59a952e",
   "metadata": {},
   "outputs": [
    {
     "name": "stdout",
     "output_type": "stream",
     "text": [
      "x                             \t\t\t1\n",
      "y                             \t\t\tFalse\n",
      "\n"
     ]
    }
   ],
   "source": [
    "op=Opt()\n",
    "op.__dict__.clear()\n",
    "op.apply([\"x=1\",\"y=False\"])\n",
    "print(op)"
   ]
  },
  {
   "cell_type": "code",
   "execution_count": 1,
   "id": "6809414a",
   "metadata": {},
   "outputs": [
    {
     "name": "stdout",
     "output_type": "stream",
     "text": [
      "cuda:0 _CudaDeviceProperties(name='NVIDIA GeForce RTX 3080 Ti', major=8, minor=6, total_memory=12287MB, multi_processor_count=80)\n",
      "Sequential(\n",
      "  (0): Linear(in_features=128, out_features=256, bias=True)\n",
      "  (1): ReLU()\n",
      "  (2): Linear(in_features=16, out_features=16, bias=True)\n",
      "  (3): Softmax(dim=-1)\n",
      ")\n",
      "1949872\n"
     ]
    },
    {
     "name": "stderr",
     "output_type": "stream",
     "text": [
      "C:\\Users\\sprag\\anaconda3\\envs\\pytorch\\lib\\site-packages\\torch\\jit\\_recursive.py:229: UserWarning: 'batch_first' was found in ScriptModule constants, but was not actually set in __init__. Consider removing it.\n",
      "  \"Consider removing it.\".format(name))\n"
     ]
    }
   ],
   "source": [
    "from PTFRNN import *\n",
    "op=Opt(K=256,Q=1,Nh=128,dir=\"PPTF\",hamiltonian=\"Rydberg\")\n",
    "op.B=op.K*op.Q\n",
    "op.patch=4\n",
    "op.L= 256\n",
    "op._2D=True\n",
    "op.sgrad=False\n",
    "op.NLOOPS=16\n",
    "\n",
    "pb = PTFRNN(16,op.patch,_2D=op._2D,Nh=op.Nh,num_layers=2,rnnargs={\"p\":2,\"_2D\":True})\n",
    "\n",
    "#Nh=[16,128,128]\n",
    "altnet = PTF(4,2,_2D=True,Nh=[16,128,256],nhead=1,num_layers=1)\n",
    "pb.prnn=altnet\n",
    "\n",
    "print(altnet.lin)\n",
    "\n",
    "print(sum([p.numel() for p in pb.parameters()]))\n",
    "\n",
    "pb1 = torch.jit.script(pb)\n"
   ]
  },
  {
   "cell_type": "code",
   "execution_count": null,
   "id": "fd78a12f",
   "metadata": {},
   "outputs": [
    {
     "name": "stdout",
     "output_type": "stream",
     "text": [
      "Output folder path established\n",
      "-0.38052 256\n",
      "1,3.033|\n",
      "246,-0.345|491,-0.349|736,-0.356|981,-0.364|1225,-0.375|1470,-0.378|"
     ]
    }
   ],
   "source": [
    "beta1=0.9;beta2=0.999\n",
    "optimizer = torch.optim.Adam(\n",
    "pb.parameters(), \n",
    "lr=op.lr,\n",
    "betas=(beta1,beta2)\n",
    ")\n",
    "\n",
    "debug = reg_train(op,(pb,optimizer))"
   ]
  },
  {
   "cell_type": "code",
   "execution_count": null,
   "id": "1a9ff38a",
   "metadata": {},
   "outputs": [],
   "source": []
  }
 ],
 "metadata": {
  "kernelspec": {
   "display_name": "Python 3",
   "language": "python",
   "name": "python3"
  },
  "language_info": {
   "codemirror_mode": {
    "name": "ipython",
    "version": 3
   },
   "file_extension": ".py",
   "mimetype": "text/x-python",
   "name": "python",
   "nbconvert_exporter": "python",
   "pygments_lexer": "ipython3",
   "version": "3.7.10"
  }
 },
 "nbformat": 4,
 "nbformat_minor": 5
}
