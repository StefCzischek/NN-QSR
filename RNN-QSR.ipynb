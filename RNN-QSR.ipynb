{
 "cells": [
  {
   "cell_type": "markdown",
   "id": "45797e5b",
   "metadata": {},
   "source": [
    "# Exploring RNN architectures for Quantum state representation\n",
    "\n",
    "A couple types of rnn:\n",
    "    \n",
    "    Gru\n",
    "    \n",
    "    Lstm\n",
    "    \n",
    "    2D lstm (if we have a 2d input)\n",
    "    \n",
    "    Tranformer (masked) (masked makes it causal whereas unmasked would be non causal)\n",
    "    \n",
    "Extra networks:\n",
    "\n",
    "    Echo state networks  -> look into\n",
    "    \n",
    "    Resevoir computing cells -> look into\n",
    "        \n",
    "        Apparently you only train the output weights -> avoids a bunch of backprop\n",
    "        \n",
    "        but we use it in a recurrent fashion so you need to backprop still\n",
    "        \n",
    "        Look at BYOL for this (might not be possible)\n",
    "    \n",
    "    "
   ]
  },
  {
   "cell_type": "markdown",
   "id": "eae4fa75",
   "metadata": {},
   "source": [
    "# Quantum state to represent\n",
    "\n",
    "- Start with Rydberg system\n",
    "\n",
    "Transverse and longitudinal view of ising model\n",
    "\n",
    "Excited state encourages nearby (within radius $R_b$)states to tend towards ground states"
   ]
  },
  {
   "cell_type": "code",
   "execution_count": 1,
   "id": "cd7f3dfd",
   "metadata": {},
   "outputs": [
    {
     "name": "stdout",
     "output_type": "stream",
     "text": [
      "cuda:0\n"
     ]
    }
   ],
   "source": [
    "import numpy as np\n",
    "from matplotlib import pyplot as plt\n",
    "import math,time\n",
    "import torch\n",
    "from torch import nn\n",
    "ngpu=1\n",
    "device = torch.device(\"cuda:0\" if (torch.cuda.is_available() and ngpu > 0) else \"cpu\")\n",
    "print(device)\n",
    "from numba import cuda"
   ]
  },
  {
   "cell_type": "markdown",
   "id": "5fb026d6",
   "metadata": {},
   "source": [
    "# Simple RNN to start\n"
   ]
  },
  {
   "cell_type": "code",
   "execution_count": 2,
   "id": "2e73a0cb",
   "metadata": {},
   "outputs": [],
   "source": [
    "class RNN(nn.Module):\n",
    "    TYPES={\"GRU\":nn.GRU,\"ELMAN\":nn.RNN,\"LSTM\":nn.LSTM}\n",
    "    def __init__(self,rnntype=\"GRU\",device=device, **kwargs):\n",
    "        super(RNN, self).__init__()\n",
    "        #rnn takes input shape [B,L,1]\n",
    "        \n",
    "        \n",
    "        self.rnn = RNN.TYPES[rnntype](input_size=1,hidden_size=128,batch_first=True)\n",
    "        \n",
    "        \n",
    "        self.lin = nn.Sequential(\n",
    "                nn.Linear(128,128),\n",
    "                nn.ReLU(),\n",
    "                nn.Linear(128,1),\n",
    "                nn.Sigmoid()\n",
    "            )\n",
    "        \n",
    "        self.rnntype=rnntype\n",
    "        self.device=device\n",
    "        self.to(device)\n",
    "    def forward(self, input):\n",
    "        # h0 is shape [d*numlayers,B,H] but D=numlayers=1 so\n",
    "        # h0 has shape [1,B,H]\n",
    "        \n",
    "        if self.rnntype==\"LSTM\":\n",
    "            h0=[torch.zeros([1,input.shape[0],128]).to(device),\n",
    "               torch.zeros([1,input.shape[0],128]).to(device)]\n",
    "            #h0 and c0\n",
    "        else:\n",
    "            h0=torch.zeros([1,input.shape[0],128]).to(device)\n",
    "        out,h=self.rnn(input,h0)\n",
    "        return self.lin(out)\n",
    "    \n",
    "    def logprobability(self,input):\n",
    "        \"\"\"Compute the logscale probability of a given state\"\"\"\n",
    "        \n",
    "        #Input should have shape [N,L,1]\n",
    "        B,L,one=input.shape\n",
    "        \n",
    "        #first prediction is with the zero input vector\n",
    "        data=torch.zeros([B,L,one]).to(self.device)\n",
    "        #data is the input vector shifted one to the right, with the very first entry set to zero instead of using pbc\n",
    "        data[:,1:,:]=input[:,:-1,:]\n",
    "        \n",
    "        #real is going to be a set of actual values\n",
    "        real=input\n",
    "        #and pred is going to be a set of probabilities\n",
    "        #if real[i]=1 than you muptiply your conditional probability by pred[i]\n",
    "        #if real[i]=0 than you muliply by 1-pred[i]\n",
    "        \n",
    "        #probability predictions should be done WITH gradients\n",
    "        #with torch.no_grad():\n",
    "        \n",
    "        pred = self.forward(data)\n",
    "        ones = real*pred\n",
    "        zeros=(1-real)*(1-pred)\n",
    "        total = ones+zeros\n",
    "        #this is the sum you see in the cell above\n",
    "        logp=torch.sum(torch.log(total),dim=1).squeeze(1)\n",
    "        return logp\n",
    "    def sample(self,B,L):\n",
    "        \"\"\" Generates a set states\n",
    "        Parameters:\n",
    "            B (int)            - The number of states to generate in parallel\n",
    "            L (int)            - The length of generated vectors\n",
    "        \"\"\"\n",
    "        if self.rnntype==\"LSTM\":\n",
    "            h=[torch.zeros([1,B,128]).to(device),\n",
    "               torch.zeros([1,B,128]).to(device)]\n",
    "            #h is h0 and c0\n",
    "        else:\n",
    "            h=torch.zeros([1,B,128]).to(device)\n",
    "        #Sample set will have shape [N,L,1]\n",
    "        #need one extra zero batch at the start for first pred hence input is [N,L+1,1] \n",
    "        input = torch.zeros([B,L+1,1],device=device)\n",
    "        #sampling can be done without gradients\n",
    "        with torch.no_grad():\n",
    "          for idx in range(1,L+1):\n",
    "            #run the rnn on shape [B,1,1]\n",
    "            \n",
    "            out,h=self.rnn(input[:,idx-1:idx,:],h)\n",
    "            out=out[:,0,:]\n",
    "            #if probs[i]=1 then there should be a 100% chance that sample[i]=1\n",
    "            #if probs[i]=0 then there should be a 0% chance that sample[i]=1\n",
    "            #stands that we generate a random uniform u and take int(u<probs) as our sample\n",
    "            probs=self.lin(out)\n",
    "            sample = (torch.rand([B,1],device=device)<probs).to(torch.float32)\n",
    "            input[:,idx,:]=sample\n",
    "        #input's first entry is zero to get a predction for the first atom\n",
    "        return input[:,1:,:]\n",
    "    \n",
    "    def sample_with_labels_OLD(self,B,L,grad=False):\n",
    "        sample=self.sample(B,L)\n",
    "        sflip = torch.zeros([B*L,L,1],device=device)\n",
    "        for j in range(L):\n",
    "            #get all of the states with one spin flipped\n",
    "            sflip[B*j:B*(j+1)] = sample*1.0\n",
    "            sflip[B*j:B*(j+1),j] = 1-sflip[B*j:B*(j+1),j]\n",
    "        #compute all of their logscale probabilities\n",
    "        if not grad:\n",
    "            with torch.no_grad():\n",
    "                probs = self.logprobability(sflip)\n",
    "        else:\n",
    "            probs = self.logprobability(sflip)\n",
    "            \n",
    "        #might make sflip shape [B,L] in the future\n",
    "        return sample,probs\n",
    "    \n",
    "    def sample_with_labels(self,B,L,grad=False):\n",
    "        sample=self.sample(B,L)\n",
    "        sflip = torch.zeros([B,L,L,1],device=device)\n",
    "        for j in range(L):\n",
    "            #get all of the states with one spin flipped\n",
    "            sflip[:,j] = sample*1.0\n",
    "            sflip[:,j,j] = 1-sflip[:,j,j]\n",
    "        #compute all of their logscale probabilities\n",
    "        if not grad:\n",
    "            with torch.no_grad():\n",
    "                probs = self.logprobability(sflip.view([B*L,L,1]))\n",
    "        else:\n",
    "            probs = self.logprobability(sflip.view([B*L,L,1]))\n",
    "            \n",
    "        #might make sflip shape [B,L] in the future\n",
    "        return sample,probs.reshape([B,L])"
   ]
  },
  {
   "cell_type": "code",
   "execution_count": 3,
   "id": "49e73636",
   "metadata": {},
   "outputs": [],
   "source": [
    "@cuda.jit\n",
    "def Vij(Ly,Lx,Rcutoff,V,matrix):\n",
    "    #matrix will be size [Lx*Ly,Lx*Ly]\n",
    "    \n",
    "    i,j=cuda.grid(2)\n",
    "    if i>Ly or j>Lx:\n",
    "        return\n",
    "    R=Rcutoff**6\n",
    "    #flatten two indices into one\n",
    "    idx = Ly*j+i\n",
    "    # only fill in the upper diagonal\n",
    "    for k in range(idx+1,Lx*Ly):\n",
    "        #expand one index into two\n",
    "        i2 = k%Ly\n",
    "        j2=k//Ly\n",
    "        div = ((i2-i)**2+(j2-j)**2)**3\n",
    "        if div<=R:\n",
    "            matrix[idx][k]=V/div\n",
    "    \n",
    "\n",
    "class Hamiltonian():\n",
    "    def __init__(self,Lx,Ly,V,Omega,delta,R=2.01,device=device):\n",
    "        self.Lx       = Lx              # Size along x\n",
    "        self.Ly       = Ly              # Size along y\n",
    "        self.V        = V               # Van der Waals potential\n",
    "        self.Omega    = Omega           # Rabi frequency\n",
    "        self.delta    = delta           # Detuning\n",
    "        self.L        = Lx * Ly         # Number of spins\n",
    "        self.device   = device\n",
    "        self.R=R\n",
    "        self.buildlattice()\n",
    "        \n",
    "    def buildlattice(self):\n",
    "        Lx,Ly=self.Lx,self.Ly\n",
    "        \n",
    "        #diagonal hamiltonian portion can be written as a matrix multiplication then a dot product\n",
    "        self.Vij=nn.Linear(self.L,self.L).to(device)\n",
    "        \n",
    "        mat=np.zeros([self.L,self.L])\n",
    "        \n",
    "        Vij[(1,1),(Lx,Ly)](Lx,Ly,self.R,self.V,mat)\n",
    "        with torch.no_grad():\n",
    "            self.Vij.weight[:,:]=torch.Tensor(mat)\n",
    "            self.Vij.bias.fill_(-self.delta)\n",
    "        \n",
    "    def localenergy(self,samples,logp,logppj):\n",
    "        \"\"\"\n",
    "        Takes in s, ln[p(s)] and ln[p(1-s)], then computes Hloc(s) for N samples s.\n",
    "        \n",
    "        Inputs:\n",
    "            samples - [B,L,1] matrix of zeros and ones for ground/excited states\n",
    "            logp - size B vector of logscale probabilities ln[p(s)]\n",
    "            logppl - size B*L vector of logscale probabilities ln[p(s')] where s'[i+B*j] had one spin flipped at position j\n",
    "                    relative to s[i]\n",
    "        Returns:\n",
    "            size B vector of energies Hloc(s)\n",
    "        \n",
    "        \"\"\"\n",
    "        # Going to calculate Eloc for each sample in a separate spot\n",
    "        # so eloc will have shape [B]\n",
    "        # recall samples has shape [B,L,1]\n",
    "        B=samples.shape[0]\n",
    "        eloc = torch.zeros(B).to(self.device)\n",
    "        # Chemical potential\n",
    "        with torch.no_grad():\n",
    "            tmp=self.Vij(samples.squeeze(2))\n",
    "            eloc += torch.sum(tmp*samples.squeeze(2),axis=1)\n",
    "        # Off-diagonal part\n",
    "        #flip ONE spin here and get sqrt(p(s)/p(s'))\n",
    "        #then sum over all spin flips\n",
    "        #think of ways to cheat\n",
    "        \n",
    "        #logppj is shape [B*L]\n",
    "        # the first N labels in logppj are the log probabilities for\n",
    "        # the N states but with the first state flipped (ground-> excited and excited-> ground)\n",
    "        # the second N all were calculated with only the second state flipped \n",
    "        # etc...\n",
    "        for j in range(self.L):\n",
    "            #logpflip is log(p(1-s))\n",
    "            #logp is log(p(s))?\n",
    "            #s' has one spin flipped at j\n",
    "            #with psi(s)=sqrt(p(s)), sigma_i^x = psi(s')/psi(s)?\n",
    "            \n",
    "            #make sure torch.exp is a thing\n",
    "            eloc += -0.5*self.Omega * torch.exp((logppj[:,j]-logp)/2)\n",
    "\n",
    "        return eloc\n"
   ]
  },
  {
   "cell_type": "code",
   "execution_count": 4,
   "id": "39b5e139",
   "metadata": {},
   "outputs": [
    {
     "name": "stdout",
     "output_type": "stream",
     "text": [
      "LSTM\n",
      "torch.Size([10, 16, 1])\n",
      "torch.Size([10, 16, 1])\n",
      "torch.Size([10, 16, 1]) torch.Size([10, 16])\n",
      "tensor(-10.9526, device='cuda:0', grad_fn=<SelectBackward0>) \n",
      " tensor([[-10.9898, -10.9940, -10.9100, -10.9080, -11.0001, -11.0013, -11.0011,\n",
      "         -10.9054, -10.9054, -11.0010, -11.0015, -11.0008, -10.9052, -11.0006,\n",
      "         -11.0013, -11.0013]], device='cuda:0')\n",
      "RNN(\n",
      "  (rnn): LSTM(1, 128, batch_first=True)\n",
      "  (lin): Sequential(\n",
      "    (0): Linear(in_features=128, out_features=128, bias=True)\n",
      "    (1): ReLU()\n",
      "    (2): Linear(in_features=128, out_features=1, bias=True)\n",
      "    (3): Sigmoid()\n",
      "  )\n",
      ")\n"
     ]
    }
   ],
   "source": [
    "testrnn = RNN(rnntype=\"LSTM\")\n",
    "print(testrnn.rnntype)\n",
    "x=torch.zeros([10,4*4,1]).to(device)\n",
    "print(testrnn(x).shape)\n",
    "sample = testrnn.sample(10,4*4)\n",
    "print(sample.shape)\n",
    "\n",
    "sample,pflip = testrnn.sample_with_labels(10,4*4,grad=False)\n",
    "logp=testrnn.logprobability(sample)\n",
    "print(sample.shape,pflip.shape)\n",
    "print(logp[0],'\\n',pflip[::10])\n",
    "\n",
    "print(testrnn)"
   ]
  },
  {
   "cell_type": "code",
   "execution_count": 5,
   "id": "4d5e48cd",
   "metadata": {},
   "outputs": [],
   "source": [
    "def new_rnn_with_optim(rnntype,lr=1e-3,beta1=0.9,beta2=0.999):\n",
    "    rnn = RNN(rnntype=rnntype)\n",
    "    optimizer = torch.optim.Adam(\n",
    "    rnn.parameters(), \n",
    "    lr=lr, \n",
    "    betas=(beta1,beta2)\n",
    "    )\n",
    "    return rnn,optimizer"
   ]
  },
  {
   "cell_type": "code",
   "execution_count": 6,
   "id": "525888b9",
   "metadata": {},
   "outputs": [],
   "source": [
    "# Hamiltonian parameters\n",
    "Lx = 4      # Linear size in x direction\n",
    "Ly = 4      # Linear size in y direction\n",
    "N = Lx*Ly   # Total number of atoms\n",
    "V = 7.0     # Strength of Van der Waals interaction\n",
    "Omega = 1.0 # Rabi frequency\n",
    "delta = 1.0 # Detuning \n",
    "\n",
    "h = Hamiltonian(Lx,Ly,V,Omega,delta)\n"
   ]
  },
  {
   "cell_type": "code",
   "execution_count": 7,
   "id": "3205a80d",
   "metadata": {},
   "outputs": [],
   "source": [
    "bsize=512\n",
    "\n",
    "testrnn,optimizer=new_rnn_with_optim(\"LSTM\")"
   ]
  },
  {
   "cell_type": "markdown",
   "id": "b6b5c39c",
   "metadata": {},
   "source": [
    "# Regular training"
   ]
  },
  {
   "cell_type": "code",
   "execution_count": 8,
   "id": "f92b8790",
   "metadata": {},
   "outputs": [
    {
     "name": "stdout",
     "output_type": "stream",
     "text": [
      "24.200188636779785\n"
     ]
    }
   ],
   "source": [
    "t=time.time()\n",
    "losses=[]\n",
    "for x in range(1000):\n",
    "    \n",
    "    \n",
    "    \n",
    "    sample,pflip = testrnn.sample_with_labels(bsize,Lx*Ly,grad=False)    \n",
    "    logp=testrnn.logprobability(sample)\n",
    "    #sample = testrnn.sample(bsize,Lx*Ly)\n",
    "    with torch.no_grad():\n",
    "        E=h.localenergy(sample,logp,pflip)\n",
    "        #E = h.LE2(sample,testrnn)\n",
    "        Eo=E.mean()\n",
    "        \n",
    "    loss = (E*logp - Eo*logp).mean()\n",
    "    \n",
    "    ERR  = Eo/(Lx*Ly)\n",
    "    testrnn.zero_grad()\n",
    "    loss.backward()\n",
    "    optimizer.step()\n",
    "    losses.append(ERR.cpu().item())\n",
    "print(time.time()-t)"
   ]
  },
  {
   "cell_type": "code",
   "execution_count": 9,
   "id": "1a39c8e2",
   "metadata": {},
   "outputs": [
    {
     "data": {
      "image/png": "[encoded data removed]",
      "text/plain": [
       "<Figure size 720x300 with 1 Axes>"
      ]
     },
     "metadata": {},
     "output_type": "display_data"
    },
    {
     "data": {
      "image/png": "[encoded data removed]",
      "text/plain": [
       "<Figure size 720x300 with 1 Axes>"
      ]
     },
     "metadata": {},
     "output_type": "display_data"
    }
   ],
   "source": [
    "# Exact energy from exact diagonalization\n",
    "exact_energy = -0.45776822\n",
    "\n",
    "fig = plt.figure(1,figsize=(6,2.5), dpi=120, facecolor='w', edgecolor='k')\n",
    "\n",
    "plt.plot(losses,marker='o',markersize=2,linewidth=0.0,markevery=5,label=\"RNN\")\n",
    "plt.plot([0,1000],[exact_energy,exact_energy],'k--')\n",
    "\n",
    "plt.xlabel(\"Step\",fontsize=15)\n",
    "plt.ylabel(\"$\\\\langle H \\\\rangle$\",fontsize=20)\n",
    "plt.legend(loc=\"best\")\n",
    "\n",
    "plt.show()\n",
    "\n",
    "fig = plt.figure(1,figsize=(6,2.5), dpi=120, facecolor='w', edgecolor='k')\n",
    "plt.plot(abs(np.array(losses)-exact_energy),marker='o',markersize=2,linewidth=0.0,markevery=5,label=\"RNN\")\n",
    "plt.yscale(\"log\")\n",
    "plt.xlabel(\"Step\",fontsize=15)\n",
    "plt.ylabel(\"$\\\\langle H \\\\rangle-H_{min}$\",fontsize=20)\n",
    "plt.legend(loc=\"best\")\n",
    "\n",
    "plt.show()"
   ]
  },
  {
   "cell_type": "code",
   "execution_count": 10,
   "id": "9e411d81",
   "metadata": {},
   "outputs": [
    {
     "data": {
      "text/plain": [
       "0.02151249676200867"
      ]
     },
     "execution_count": 10,
     "metadata": {},
     "output_type": "execute_result"
    }
   ],
   "source": [
    "losses[-1]-exact_energy"
   ]
  },
  {
   "cell_type": "code",
   "execution_count": 11,
   "id": "f52f719d",
   "metadata": {},
   "outputs": [],
   "source": [
    "testrnn,optimizer=new_rnn_with_optim(\"LSTM\")"
   ]
  },
  {
   "cell_type": "markdown",
   "id": "b855d365",
   "metadata": {},
   "source": [
    "# Training with Memory Queue"
   ]
  },
  {
   "cell_type": "code",
   "execution_count": 12,
   "id": "bae6704d",
   "metadata": {},
   "outputs": [
    {
     "name": "stdout",
     "output_type": "stream",
     "text": [
      "512\n",
      "26.131690740585327\n"
     ]
    }
   ],
   "source": [
    "i=0\n",
    "samplequeue,pflipqueue=testrnn.sample_with_labels(bsize,Lx*Ly,grad=True)\n",
    "\n",
    "BlockNum=(Lx*Ly)//2\n",
    "\n",
    "BbyL=bsize//BlockNum\n",
    "\n",
    "print(BbyL*BlockNum)\n",
    "\n",
    "\n",
    "t=time.time()\n",
    "losses=[]\n",
    "for x in range(2000):\n",
    "    \n",
    "    \n",
    "    sample,pflip = testrnn.sample_with_labels(BbyL,Lx*Ly,grad=False)\n",
    "    with torch.no_grad():\n",
    "        samplequeue[i*BbyL:(i+1)*BbyL]=sample\n",
    "        pflipqueue[i*BbyL:(i+1)*BbyL]=pflip\n",
    "    i=(i+1)%BlockNum\n",
    "    \n",
    "    logp=testrnn.logprobability(samplequeue)\n",
    "    \n",
    "    \n",
    "    #sample = testrnn.sample(bsize,Lx*Ly)\n",
    "    \n",
    "    \n",
    "    with torch.no_grad():\n",
    "        E=h.localenergy(samplequeue,logp,pflipqueue)\n",
    "        #E = h.LE2(sample,testrnn)\n",
    "        Eo=E.mean()\n",
    "            \n",
    "    loss = (E*logp - Eo*logp).mean()\n",
    "    \n",
    "    ERR  = Eo/(Lx*Ly)\n",
    "    testrnn.zero_grad()\n",
    "    loss.backward()\n",
    "    optimizer.step()\n",
    "    losses.append(ERR.cpu().item())\n",
    "print(time.time()-t)"
   ]
  },
  {
   "cell_type": "code",
   "execution_count": 13,
   "id": "fa923487",
   "metadata": {},
   "outputs": [
    {
     "data": {
      "image/png": "[encoded data removed]",
      "text/plain": [
       "<Figure size 720x300 with 1 Axes>"
      ]
     },
     "metadata": {},
     "output_type": "display_data"
    },
    {
     "data": {
      "image/png": "[encoded data removed]",
      "text/plain": [
       "<Figure size 720x300 with 1 Axes>"
      ]
     },
     "metadata": {},
     "output_type": "display_data"
    }
   ],
   "source": [
    "# Exact energy from exact diagonalization\n",
    "exact_energy = -0.45776822\n",
    "\n",
    "fig = plt.figure(1,figsize=(6,2.5), dpi=120, facecolor='w', edgecolor='k')\n",
    "\n",
    "plt.plot(losses,marker='o',markersize=2,linewidth=0.0,markevery=5,label=\"RNN\")\n",
    "plt.plot([0,1000],[exact_energy,exact_energy],'k--')\n",
    "\n",
    "plt.xlabel(\"Step\",fontsize=15)\n",
    "plt.ylabel(\"$\\\\langle H \\\\rangle$\",fontsize=20)\n",
    "plt.legend(loc=\"best\")\n",
    "\n",
    "plt.show()\n",
    "\n",
    "fig = plt.figure(1,figsize=(6,2.5), dpi=120, facecolor='w', edgecolor='k')\n",
    "plt.plot(abs(np.array(losses)-exact_energy),marker='o',markersize=2,linewidth=0.0,markevery=5,label=\"RNN\")\n",
    "plt.yscale(\"log\")\n",
    "plt.xlabel(\"Step\",fontsize=15)\n",
    "plt.ylabel(\"$\\\\langle H \\\\rangle-H_{min}$\",fontsize=20)\n",
    "plt.legend(loc=\"best\")\n",
    "\n",
    "plt.show()"
   ]
  },
  {
   "cell_type": "code",
   "execution_count": 14,
   "id": "78d65011",
   "metadata": {},
   "outputs": [
    {
     "name": "stdout",
     "output_type": "stream",
     "text": [
      "0.010111379914016727\n"
     ]
    }
   ],
   "source": [
    "OUTsample,OUTpflip = testrnn.sample_with_labels(bsize,Lx*Ly,grad=False)    \n",
    "OUTlogp=testrnn.logprobability(OUTsample)\n",
    "#sample = testrnn.sample(bsize,Lx*Ly)\n",
    "with torch.no_grad():\n",
    "    OUTE=h.localenergy(OUTsample,OUTlogp,OUTpflip)\n",
    "    #E = h.LE2(sample,testrnn)\n",
    "    OUTEo=OUTE.mean()\n",
    "    \n",
    "print((OUTEo/(Lx*Ly)).cpu().item()-exact_energy)"
   ]
  },
  {
   "cell_type": "code",
   "execution_count": 15,
   "id": "ea01ed08",
   "metadata": {
    "scrolled": true
   },
   "outputs": [
    {
     "data": {
      "text/plain": [
       "torch.Size([512])"
      ]
     },
     "execution_count": 15,
     "metadata": {},
     "output_type": "execute_result"
    }
   ],
   "source": [
    "logp.shape\n",
    "E.shape\n"
   ]
  },
  {
   "cell_type": "code",
   "execution_count": 16,
   "id": "6b162ef0",
   "metadata": {},
   "outputs": [
    {
     "data": {
      "text/plain": [
       "torch.Size([64, 16])"
      ]
     },
     "execution_count": 16,
     "metadata": {},
     "output_type": "execute_result"
    }
   ],
   "source": [
    "sample.squeeze(2).shape"
   ]
  },
  {
   "cell_type": "code",
   "execution_count": 17,
   "id": "81129e85",
   "metadata": {},
   "outputs": [],
   "source": [
    "class HamiltonianOLD():\n",
    "    def __init__(self,Lx,Ly,V,Omega,delta,device=device):\n",
    "        \n",
    "        self.Lx       = Lx              # Size along x\n",
    "        self.Ly       = Ly              # Size along y\n",
    "        self.V        = V               # Van der Waals potential\n",
    "        self.Omega    = Omega           # Rabi frequency\n",
    "        self.delta    = delta           # Detuning\n",
    "        self.L        = Lx * Ly         # Number of spins\n",
    "        self.device   = device\n",
    "        self.buildlattice()\n",
    "        \n",
    "    \n",
    "    \n",
    "    def LE2(self,samples,net):\n",
    "        \n",
    "        B=samples.shape[0]\n",
    "        eloc = torch.zeros(B).to(self.device)\n",
    "        eloc += - self.delta * torch.sum(samples,dim=[1,2])\n",
    "        for n in range(len(self.nn)):\n",
    "            eloc += self.V * samples[:,self.nn[n][0],0]*samples[:,self.nn[n][1],0]\n",
    "        for n in range(len(self.nnn)):\n",
    "            eloc += (self.V/8.0) * samples[:,self.nnn[n][0],0]*samples[:,self.nnn[n][1],0]\n",
    "        for n in range(len(self.nnnn)):\n",
    "            eloc += (self.V/64.0) * samples[:,self.nnnn[n][0],0]*samples[:,self.nnnn[n][1],0]\n",
    "            \n",
    "        logpsi = net.logprobability(samples)/2\n",
    "        for j in range(self.L):\n",
    "            flip_samples = samples*1.0\n",
    "            flip_samples[:,j,:] = 1 - flip_samples[:,j,:] # only one part of the sample is flipped\n",
    "            flip_logpsi = net.logprobability(flip_samples)/2\n",
    "            \n",
    "            eloc += -0.5*self.Omega * torch.exp(flip_logpsi-logpsi)\n",
    "        return eloc\n",
    "    \n",
    "    \n",
    "    def localenergy(self,samples,logp,logppj):\n",
    "        \"\"\"\n",
    "        Takes in s, ln[p(s)] and ln[p(1-s)], then computes Hloc(s) for N samples s.\n",
    "        \n",
    "        Inputs:\n",
    "            samples - [B,L,1] matrix of zeros and ones for ground/excited states\n",
    "            logp - size B vector of logscale probabilities ln[p(s)]\n",
    "            logppl - size B*L vector of logscale probabilities ln[p(s')] where s'[i+B*j] had one spin flipped at position j\n",
    "                    relative to s[i]\n",
    "        Returns:\n",
    "            size B vector of energies Hloc(s)\n",
    "        \n",
    "        \"\"\"\n",
    "        \n",
    "        # Going to calculate Eloc for each sample in a separate spot\n",
    "        # so eloc will have shape [B]\n",
    "        # recall samples has shape [B,L,1]\n",
    "        B=samples.shape[0]\n",
    "        eloc = torch.zeros(B).to(self.device)\n",
    "        # Chemical potential\n",
    "                \n",
    "        #make sure I am using torchsum correctlyt\n",
    "        eloc += - self.delta * torch.sum(samples,dim=[1,2])\n",
    "        \n",
    "        \n",
    "        #going to change this bit later because I don't particularily \n",
    "        #like how nn,nnn, and nnnn are setup and used\n",
    "        \n",
    "        #can just make this X^t * W * X where W is a weight matrix and X is our sample\n",
    "        \n",
    "        # NN\n",
    "        for n in range(len(self.nn)):\n",
    "            eloc += self.V * samples[:,self.nn[n][0],0]*samples[:,self.nn[n][1],0]\n",
    "        for n in range(len(self.nnn)):\n",
    "            eloc += (self.V/8.0) * samples[:,self.nnn[n][0],0]*samples[:,self.nnn[n][1],0]\n",
    "        for n in range(len(self.nnnn)):\n",
    "            eloc += (self.V/64.0) * samples[:,self.nnnn[n][0],0]*samples[:,self.nnnn[n][1],0]\n",
    "                        \n",
    "        # Off-diagonal part\n",
    "        #flip ONE spin here and get sqrt(p(s)/p(s'))\n",
    "        #then sum over all spin flips\n",
    "        #think of ways to cheat\n",
    "        \n",
    "        #logppj is shape [B*L]\n",
    "        # the first N labels in logppj are the log probabilities for\n",
    "        # the N states but with the first state flipped (ground-> excited and excited-> ground)\n",
    "        # the second N all were calculated with only the second state flipped \n",
    "        # etc...\n",
    "        for j in range(self.L):\n",
    "            #logpflip is log(p(1-s))\n",
    "            #logp is log(p(s))?\n",
    "            #s' has one spin flipped at j\n",
    "            #with psi(s)=sqrt(p(s)), sigma_i^x = psi(s')/psi(s)?\n",
    "            \n",
    "            #make sure torch.exp is a thing\n",
    "            eloc += -0.5*self.Omega * torch.exp((logppj[B*j:B*(j+1)]-logp)/2)\n",
    "\n",
    "        return eloc\n",
    "\n",
    "    \"\"\" Generate the square lattice structures \"\"\"\n",
    "    def coord_to_site(self,x,y):\n",
    "        return self.Ly*x+y\n",
    "    \n",
    "    #Left Unchanged\n",
    "    def buildlattice(self):\n",
    "        \"\"\"\n",
    "        Function called during initialization which creates a list of nearest neighbors (nn),\n",
    "        next-nearest-neighbors (nnn) and next-next-nearest-neighbors (nnnn)\n",
    "        \"\"\"\n",
    "        self.nn = []\n",
    "        self.nnn = []\n",
    "        self.nnnn = []\n",
    "        for x in range(self.Lx):\n",
    "            for y in range(self.Ly-1):\n",
    "                self.nn.append([self.coord_to_site(x,y),self.coord_to_site(x,y+1)])\n",
    "        for y in range(self.Ly):\n",
    "            for x in range(self.Lx-1):\n",
    "                self.nn.append([self.coord_to_site(x,y),self.coord_to_site(x+1,y)])\n",
    "\n",
    "        for y in range(self.Ly-1):\n",
    "            for x in range(self.Lx-1):\n",
    "                self.nnn.append([self.coord_to_site(x,y),self.coord_to_site(x+1,y+1)])\n",
    "                self.nnn.append([self.coord_to_site(x+1,y),self.coord_to_site(x,y+1)])\n",
    "\n",
    "        for y in range(self.Ly):\n",
    "            for x in range(self.Lx-2):\n",
    "                self.nnnn.append([self.coord_to_site(x,y),self.coord_to_site(x+2,y)])\n",
    "        for y in range(self.Ly-2):\n",
    "            for x in range(self.Lx):\n",
    "                self.nnnn.append([self.coord_to_site(x,y),self.coord_to_site(x,y+2)])\n",
    "                "
   ]
  },
  {
   "cell_type": "code",
   "execution_count": 18,
   "id": "3c063975",
   "metadata": {},
   "outputs": [],
   "source": [
    "x=torch.arange(27).reshape(3,3,3)"
   ]
  },
  {
   "cell_type": "code",
   "execution_count": null,
   "id": "27f602db",
   "metadata": {},
   "outputs": [],
   "source": []
  }
 ],
 "metadata": {
  "kernelspec": {
   "display_name": "Python 3",
   "language": "python",
   "name": "python3"
  },
  "language_info": {
   "codemirror_mode": {
    "name": "ipython",
    "version": 3
   },
   "file_extension": ".py",
   "mimetype": "text/x-python",
   "name": "python",
   "nbconvert_exporter": "python",
   "pygments_lexer": "ipython3",
   "version": "3.7.10"
  }
 },
 "nbformat": 4,
 "nbformat_minor": 5
}
